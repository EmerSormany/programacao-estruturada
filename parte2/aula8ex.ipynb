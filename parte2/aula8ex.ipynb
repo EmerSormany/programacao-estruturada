{
 "cells": [
  {
   "cell_type": "markdown",
   "metadata": {},
   "source": [
    "1- Faça um programa que preencha por leitura um vetor de 5 posições, e informe a posição em que um valor x (lido do teclado) está no vetor. Caso o valor x não seja encontrado, o\n",
    "programa deve imprimir o valor -1 \n",
    "- Crie uma lista de 5 elementos e preencha com uma iteração sobre a lista com valores lidos do teclado\n",
    "- Leia um número do teclado\n",
    "- Compare se este número está na lista"
   ]
  },
  {
   "cell_type": "code",
   "execution_count": null,
   "metadata": {},
   "outputs": [
    {
     "name": "stdout",
     "output_type": "stream",
     "text": [
      "O número está no vetor\n"
     ]
    }
   ],
   "source": [
    "def ler_vetor():\n",
    "    vetor = []\n",
    "    tamanho_vetor = 5\n",
    "    for i in range(tamanho_vetor):\n",
    "        valor = int(input(f'Digite o valor da posição {i}:'))\n",
    "        vetor.append(valor)\n",
    "    return vetor\n",
    "\n",
    "def main():\n",
    "    vetor = ler_vetor()\n",
    "    numero = int(input('Digite o valor do número:'))\n",
    "    print(\"O número está no vetor\" if numero in vetor else \"O número NÃO está no vetor\")\n",
    "\n",
    "main()\n",
    "    "
   ]
  },
  {
   "cell_type": "markdown",
   "metadata": {},
   "source": [
    "2 - Um dado é lançado 50 vezes, e o valor correspondente é armazenado em um vetor. Faça um programa que determine o percentual de ocorrências de face 6 do dado dentre esses 50\n",
    "lançamentos.\n",
    "- Crie uma lista com tamanho 50 e armazene nesta lista valores gerados aleatóriamente\n",
    "- Faça uma iteração na lista para verificar quantos destes números são iguais à 6\n"
   ]
  },
  {
   "cell_type": "code",
   "execution_count": null,
   "metadata": {},
   "outputs": [
    {
     "name": "stdout",
     "output_type": "stream",
     "text": [
      "10\n"
     ]
    }
   ],
   "source": [
    "from random import randint\n",
    "\n",
    "def gerar_valores(min, max, qnt_lancamento):\n",
    "    vetor = []\n",
    "    for i in range(qnt_lancamento):\n",
    "        resultado = randint(min, max)\n",
    "        vetor.append(resultado)\n",
    "    return vetor\n",
    "\n",
    "def qnt_numero_na_lista(numero, lista):\n",
    "    quantidade = 0\n",
    "    for _, valor in enumerate(lista):\n",
    "        quantidade += 1 if numero == valor else 0\n",
    "    return quantidade\n",
    "    \n",
    "def main():\n",
    "    numero = 6\n",
    "    vetor = gerar_valores(1,6,50)\n",
    "    quantidade = qnt_numero_na_lista(numero, vetor)\n",
    "    print(quantidade)\n",
    "\n",
    "main()\n",
    "\n",
    "    \n",
    "\n"
   ]
  },
  {
   "cell_type": "markdown",
   "metadata": {},
   "source": [
    "3- Faça um programa que preenche um vetor de 10 posições com números aleatórios entre 0 e 20. Após o preenchimento, o programa deve manipular os valores de cada posição do vetor da seguinte forma:\n",
    "cada célulaé a soma dela mesma e das células anteriores. Imprima o vetor antes e depois da manipulação. Exemplo:\n",
    "- Vetor original [2, 1, 20,5, 17,19,14,4, 18,2]\n",
    "- Vetor manipulado [2, 3, 25,35,82,166, 327, 644, 1302,2588]"
   ]
  },
  {
   "cell_type": "code",
   "execution_count": null,
   "metadata": {},
   "outputs": [
    {
     "name": "stdout",
     "output_type": "stream",
     "text": [
      "[2, 3, 25, 35, 82, 166, 327, 644, 1302, 2588]\n",
      "[2, 3, 25, 35, 82, 166, 327, 644, 1302, 2588]\n"
     ]
    }
   ],
   "source": [
    "def gerar_valores(min, max, qnt_lancamento):\n",
    "    vetor = []\n",
    "    for i in range(qnt_lancamento):\n",
    "        resultado = randint(min, max)\n",
    "        vetor.append(resultado)\n",
    "    return vetor\n",
    "\n",
    "def resposta1():\n",
    "    #original = gerar_valores(1,100,10)\n",
    "    original =  [2, 1, 20,5, 17,19,14,4, 18,2]\n",
    "    for i, v in enumerate(original):\n",
    "        soma = 0\n",
    "        for j in range(i, -1, -1):\n",
    "            soma += original[j]\n",
    "        original[i] = soma\n",
    "\n",
    "    print(original)\n",
    "\n",
    "def resposta2():\n",
    "    original =  [2, 1, 20,5, 17,19,14,4, 18,2]\n",
    "    for i, v in enumerate(original):\n",
    "        soma = sum(original[i::-1])\n",
    "        original[i] = soma\n",
    "\n",
    "    print(original)\n",
    "\n",
    "def main():\n",
    "    resposta1()\n",
    "    resposta2()\n",
    "    \n",
    "main()\n"
   ]
  },
  {
   "cell_type": "markdown",
   "metadata": {},
   "source": [
    "4 - Dada uma lista de números, utilize map() com uma função lambda para criar uma nova lista onde cada número é multiplicado por 2, mas apenas se for maior que 5\n",
    "- Crie uma lista de quadrados dos números de 1 a 10 usando list comprehension.\n",
    "- Utilize a função map e uma função lambda para multiplicar por 2 os números maiores que 5"
   ]
  },
  {
   "cell_type": "code",
   "execution_count": null,
   "metadata": {},
   "outputs": [
    {
     "name": "stdout",
     "output_type": "stream",
     "text": [
      "[4, 2, 40, 10, 34, 38, 28, 8, 36, 4]\n"
     ]
    }
   ],
   "source": [
    "original =  [2, 1, 20,5, 17,19,14,4, 18,2]\n",
    "lista = list(map( lambda x: x*2, original))\n",
    "print(lista)"
   ]
  },
  {
   "cell_type": "markdown",
   "metadata": {},
   "source": [
    "5 - Faça um programa que converta uma lista de temperaturas de Fahrenheit para Celsius, em seu programa o usuário deverá inserir uma sequência de valores que representam a temperatura em graus Fahrenheit, seu programa deve receber esses valores e armazenar em uma lista até que o valor inserido pelo usuário seja um valor em branco (uma string vazia). Converta todos os valores presentes na lista para graus Celsius usando a função map e imprima na tela em uma formatação amigável ao usuário.\n",
    "- Utilize o while e no bloco de repetição leia dados de temperatura do usuário\n",
    "- Acrescente os dados na lista\n",
    "- Crie uma função para converter temperatura de Farenheint para Celcios\n",
    "- Use a função map com a função e a lista\n",
    "- Imprima todas os valores da nova lista"
   ]
  },
  {
   "cell_type": "code",
   "execution_count": null,
   "metadata": {},
   "outputs": [
    {
     "name": "stdout",
     "output_type": "stream",
     "text": [
      "[-6.666666666666667]\n"
     ]
    }
   ],
   "source": [
    "valor = \" \"\n",
    "temperaturas = []\n",
    "while True:\n",
    "    valor = input(\"Digite uma temperatura em F\")\n",
    "    if valor == \"\":\n",
    "        break\n",
    "    temperaturas.append(float(valor))\n",
    "\n",
    "temperaturas_c = list(map(lambda f: (f-32) * 5/9, temperaturas ))\n",
    "print(temperaturas_c)\n",
    "\n",
    "\n",
    "\n"
   ]
  },
  {
   "cell_type": "code",
   "execution_count": null,
   "metadata": {},
   "outputs": [
    {
     "name": "stdout",
     "output_type": "stream",
     "text": [
      "True\n"
     ]
    }
   ],
   "source": [
    "print(input()==\"\")"
   ]
  },
  {
   "cell_type": "markdown",
   "metadata": {},
   "source": [
    "6 - A partir do dicionário de nomes e idades de pessoas a seguir, faça um programa que imprima em ordem a partir dos nomes das pessoas, mostre a soma das idades, a média das idades e a pessoa mais velha. \n",
    "```py\n",
    "people = {\n",
    "    \"Rafael\": 41,\n",
    "    \"Anne\": 28,\n",
    "    \"Jen\": 32,\n",
    "    \"Satan\": 2000000,\n",
    "    \"Frank\": 12,\n",
    "    \"Sally\": 19,\n",
    "    \"Bob\": 42,\n",
    "    \"Sue\": 21,\n",
    "    \"Jill\": 32,\n",
    "    \"Jack\": 32,\n",
    "}"
   ]
  },
  {
   "cell_type": "code",
   "execution_count": null,
   "metadata": {},
   "outputs": [],
   "source": [
    "people = {\n",
    "    \"Rafael\": 41,\n",
    "    \"Anne\": 28,\n",
    "    \"Jen\": 32,\n",
    "    \"Satan\": 2000000,\n",
    "    \"Frank\": 12,\n",
    "    \"Sally\": 19,\n",
    "    \"Bob\": 42,\n",
    "    \"Sue\": 21,\n",
    "    \"Jill\": 32,\n",
    "    \"Jack\": 32,\n",
    "}\n",
    "\n",
    "print(sorted(people.keys()))\n",
    "print(sum(people.values()))\n",
    "print(max(people.values()))\n",
    "print(min(people.values()))"
   ]
  },
  {
   "cell_type": "markdown",
   "metadata": {},
   "source": [
    "7 - Escreva um programa em Python para calcular a soma de todos os elementos de cada tupla armazenada dentro de uma lista de tuplas.\n",
    "\n",
    "Lista original de tuplas:\n",
    "\n",
    "[(1, 2), (2, 3), (3, 4)]\n",
    "\n",
    "Soma de todos os elementos de cada tupla armazenada dentro da mencionada lista de tuplas:\n",
    "\n",
    "[3, 5, 7]\n",
    "\n",
    "Lista original de tuplas:\n",
    "\n",
    "[(1, 2, 6), (2, 3, -6), (3, 4), (2, 2, 2, 2)]\n",
    "\n",
    "Soma de todos os elementos de cada tupla armazenada dentro da mencionada lista de tuplas:\n",
    "\n",
    "[9, -1, 7, 8]"
   ]
  },
  {
   "cell_type": "code",
   "execution_count": 1,
   "metadata": {},
   "outputs": [
    {
     "name": "stdout",
     "output_type": "stream",
     "text": [
      "[3, 5, 7]\n"
     ]
    }
   ],
   "source": [
    "\n",
    "def soma_tuplas(tuplas):\n",
    "    res = []\n",
    "    for t in tuplas:\n",
    "        res.append(sum(t))\n",
    "    return res\n",
    "\n",
    "\n",
    "tuplas = [(1, 2), (2, 3), (3, 4)]\n",
    "print(soma_tuplas(tuplas))"
   ]
  },
  {
   "cell_type": "markdown",
   "metadata": {},
   "source": [
    "8 - Problema: Compra e Venda de Ações\n",
    "Você recebe uma lista prices onde prices[i] é o preço de uma determinada ação no dia i. Você deseja maximizar seu lucro escolhendo um dia para comprar uma ação e escolhendo um dia diferente no futuro para vender essa ação. Retorne o lucro máximo que você pode obter com essa transação. Se não for possível obter lucro algum, retorne 0.\n",
    "\n",
    "\n",
    "Exemplo 1:\n",
    "\n",
    "Entrada: prices = [7,1,5,3,6,4]\n",
    "\n",
    "Saída: 5\n",
    "\n",
    "Explicação: Compre no dia 2 (preço = 1) e venda no dia 5 (preço = 6), lucro = 6-1 = 5. Observe que comprar no dia 2 e vender no dia 1 não é permitido, pois você deve comprar antes de vender.\n",
    "\n",
    "Exemplo 2:\n",
    "\n",
    "Entrada: prices = [7,6,4,3,1]\n",
    "\n",
    "Saída: 0"
   ]
  },
  {
   "cell_type": "code",
   "execution_count": 3,
   "metadata": {},
   "outputs": [
    {
     "name": "stdout",
     "output_type": "stream",
     "text": [
      "0\n"
     ]
    }
   ],
   "source": [
    "prices = [7,1,5,3,6,4]\n",
    "esq, dir = 0, 1\n",
    "lucro_max = 0\n",
    "while dir < len(prices):\n",
    "    lucro = prices[dir] - prices[esq]\n",
    "    if lucro < 0:\n",
    "        esq = dir\n",
    "    if lucro > lucro_max:\n",
    "        lucro_max = lucro\n",
    "    dir += 1\n",
    "print(lucro_max)"
   ]
  },
  {
   "cell_type": "code",
   "execution_count": null,
   "metadata": {},
   "outputs": [],
   "source": [
    "def index_min_el(prices):\n",
    "    minIndex = 0\n",
    "    min = prices[minIndex]        \n",
    "    for i, el in enumerate(prices):\n",
    "        if el < min:\n",
    "            min = el\n",
    "            minIndex = i\n",
    "    return minIndex\n",
    "\n",
    "def maxProfit(prices) -> int:\n",
    "    minIndex = index_min_el(prices)\n",
    "    maxProfit = 0\n",
    "            \n",
    "    for i in range(minIndex, len(prices)):\n",
    "        profit = prices[i] - prices[minIndex]\n",
    "        if profit > maxProfit:\n",
    "            maxProfit = profit\n",
    "    \n",
    "    return 0 if maxProfit < 0 else maxProfit"
   ]
  },
  {
   "cell_type": "markdown",
   "metadata": {},
   "source": [
    "9 - Você recebe um número inteiro grande representado como um array de inteiros chamado 'digits', onde cada 'digits[i]' é o i-ésimo dígito do número. Os dígitos são ordenados do dígito mais significativo para o menos significativo na ordem da esquerda para a direita. O número inteiro grande não contém zeros à esquerda.\n",
    "\n",
    "Incremente o número inteiro grande em um e retorne o array resultante de dígitos.\n",
    "\n",
    "Exemplo 1:\n",
    "\n",
    "Entrada: digits = [1,2,3]\n",
    "Saída: [1,2,4]\n",
    "Explicação: O array representa o número 123. Incrementar um resulta em 123 + 1 = 124. Portanto, o resultado deve ser [1,2,4].\n",
    "\n",
    "Exemplo 2:\n",
    "\n",
    "Entrada: digits = [4,3,2,1]\n",
    "Saída: [4,3,2,2]\n",
    "Explicação: O array representa o número 4321. Incrementar um resulta em 4321 + 1 = 4322. Portanto, o resultado deve ser [4,3,2,2].\n",
    "\n",
    "Exemplo 3:\n",
    "\n",
    "Entrada: digits = [9]\n",
    "Saída: [1,0]\n",
    "Explicação: O array representa o número 9. Incrementar um resulta em 9 + 1 = 10. Portanto, o resultado deve ser [1,0]."
   ]
  },
  {
   "cell_type": "code",
   "execution_count": 37,
   "metadata": {},
   "outputs": [
    {
     "name": "stdout",
     "output_type": "stream",
     "text": [
      "[1, 0, 0, 0]\n"
     ]
    }
   ],
   "source": [
    "digits = [9,9,9]\n",
    "def transformar_lista_numero(digits):\n",
    "    expoente = len(digits) - 1\n",
    "    numero = 0\n",
    "    for i in range(len(digits)):\n",
    "        fator = 10**expoente\n",
    "        numero += digits[i] * fator\n",
    "        expoente -= 1\n",
    "\n",
    "    return numero\n",
    "\n",
    "def transformar_numero_lista(numero):\n",
    "    digits = []\n",
    "    tamanho = len(str(numero))\n",
    "    expoente = tamanho - 1\n",
    "    for i in range(tamanho):\n",
    "        fator =  10 ** expoente\n",
    "        digits.append(numero // fator)\n",
    "        numero = numero - digits[-1] * fator\n",
    "        expoente -= 1\n",
    "    return digits\n",
    "\n",
    "numero = transformar_lista_numero(digits)\n",
    "\n",
    "numero += 1\n",
    "\n",
    "print(transformar_numero_lista(numero))\n",
    "\n",
    "\n",
    "\n"
   ]
  },
  {
   "cell_type": "markdown",
   "metadata": {},
   "source": [
    "10 - Dado o nó inicial de uma lista ligada ordenada, exclua todos os duplicados de forma que cada elemento apareça apenas uma vez. Retorne a lista ligada também ordenada.\n",
    "\n",
    "Exemplo: \n",
    "\n",
    "Input: head = [1,1,2]\n",
    "\n",
    "Output: [1,2]\n",
    "\n",
    "Exemplo:\n",
    "\n",
    "Input: head = [1,1,2,3,3]\n",
    "Output: [1,2,3]"
   ]
  },
  {
   "cell_type": "code",
   "execution_count": 44,
   "metadata": {},
   "outputs": [
    {
     "name": "stdout",
     "output_type": "stream",
     "text": [
      "[1, 2, 3]\n"
     ]
    }
   ],
   "source": [
    "pos = 0 \n",
    "head = [1,1,2,3,3]\n",
    "indices_removives = []\n",
    "for i, el in enumerate(head):\n",
    "    for j in range(i+1, len(head)):\n",
    "        if el == head[j]:\n",
    "            indices_removives.append(i)\n",
    "for i in indices_removives:\n",
    "    head.pop(i)\n",
    "\n",
    "print(head)"
   ]
  }
 ],
 "metadata": {
  "kernelspec": {
   "display_name": "Python 3",
   "language": "python",
   "name": "python3"
  },
  "language_info": {
   "codemirror_mode": {
    "name": "ipython",
    "version": 3
   },
   "file_extension": ".py",
   "mimetype": "text/x-python",
   "name": "python",
   "nbconvert_exporter": "python",
   "pygments_lexer": "ipython3",
   "version": "3.11.5"
  }
 },
 "nbformat": 4,
 "nbformat_minor": 2
}
