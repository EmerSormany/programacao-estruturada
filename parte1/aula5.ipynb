{
 "cells": [
  {
   "cell_type": "markdown",
   "id": "e8bb9a3a",
   "metadata": {},
   "source": [
    "# Instrução de seleção simples (if):\n",
    "\n",
    "A instrução \"if\" é usada para executar um bloco de código se uma condição for avaliada como verdadeira. A sintaxe básica é a seguinte:"
   ]
  },
  {
   "cell_type": "code",
   "execution_count": null,
   "id": "df9e09d9",
   "metadata": {},
   "outputs": [],
   "source": [
    "if condição:\n",
    "    # código a ser executado se a condição for verdadeira\n"
   ]
  },
  {
   "cell_type": "markdown",
   "id": "3a4430b4",
   "metadata": {},
   "source": [
    "Se a condição for verdadeira, o código dentro do bloco de \"if\" será executado. Caso contrário, o bloco será ignorado e a execução continuará com o próximo bloco de código."
   ]
  },
  {
   "cell_type": "code",
   "execution_count": null,
   "id": "e97be7ea",
   "metadata": {},
   "outputs": [],
   "source": [
    "idade = 18\n",
    "if idade >= 18:\n",
    "    print(\"Você pode votar.\")\n"
   ]
  },
  {
   "cell_type": "markdown",
   "id": "ada940f0",
   "metadata": {},
   "source": [
    "O if avalia um valor booleano, logo este valor pode sugir de uma expressão lógica ou relacional. Veja o exemplo a seguir com o operador lógico **and**:"
   ]
  },
  {
   "cell_type": "code",
   "execution_count": null,
   "id": "a64f2695",
   "metadata": {},
   "outputs": [],
   "source": [
    "idade = 25\n",
    "tem_carteira_de_motorista = True\n",
    "\n",
    "if idade >= 18 and tem_carteira_de_motorista:\n",
    "    print(\"Você pode dirigir.\")\n",
    "else:\n",
    "    print(\"Você não pode dirigir.\")\n"
   ]
  },
  {
   "cell_type": "markdown",
   "id": "afa061ff",
   "metadata": {},
   "source": [
    "Veja o exemplo utilizando o operador relacional **==**"
   ]
  },
  {
   "cell_type": "code",
   "execution_count": null,
   "id": "c805f4f8",
   "metadata": {},
   "outputs": [],
   "source": [
    "senha_correta = \"12345\"\n",
    "senha_digitada = input(\"Digite sua senha: \")\n",
    "\n",
    "if senha_digitada == senha_correta:\n",
    "    print(\"Acesso concedido.\")\n",
    "else:\n",
    "    print(\"Senha incorreta. Acesso negado.\")\n"
   ]
  },
  {
   "cell_type": "markdown",
   "id": "48a1f611",
   "metadata": {},
   "source": [
    "Veja o exemplo utilizando o operador de associação **in**"
   ]
  },
  {
   "cell_type": "code",
   "execution_count": null,
   "id": "74d947a8",
   "metadata": {},
   "outputs": [],
   "source": [
    "cores_preferidas = [\"azul\", \"vermelho\", \"verde\"]\n",
    "cor_escolhida = input(\"Digite sua cor preferida: \")\n",
    "\n",
    "if cor_escolhida in cores_preferidas:\n",
    "    print(\"Essa cor está na lista das suas cores preferidas.\")\n",
    "else:\n",
    "    print(\"Essa cor não está na lista das suas cores preferidas.\")\n"
   ]
  },
  {
   "cell_type": "markdown",
   "id": "570d6f54",
   "metadata": {},
   "source": [
    "# Instrução de seleção dupla (if/else):\n",
    "\n",
    "A instrução \"if/else\" permite executar um bloco de código quando uma condição é verdadeira e outro bloco de código quando a condição é falsa. A sintaxe é a seguinte:"
   ]
  },
  {
   "cell_type": "code",
   "execution_count": null,
   "id": "7381e37d",
   "metadata": {},
   "outputs": [],
   "source": [
    "if condição:\n",
    "    # código a ser executado se a condição for verdadeira\n",
    "else:\n",
    "    # código a ser executado se a condição for falsa\n"
   ]
  },
  {
   "cell_type": "markdown",
   "id": "27f34043",
   "metadata": {},
   "source": [
    "Exemplo:"
   ]
  },
  {
   "cell_type": "code",
   "execution_count": null,
   "id": "e41e6a97",
   "metadata": {},
   "outputs": [],
   "source": [
    "idade = 16\n",
    "if idade >= 18:\n",
    "    print(\"Você é maior de idade.\")\n",
    "else:\n",
    "    print(\"Você é menor de idade.\")\n"
   ]
  },
  {
   "cell_type": "markdown",
   "id": "81e9639d",
   "metadata": {},
   "source": [
    "# Instruções if/else aninhadas\n",
    "\n",
    "As instruções if/else aninhadas permitem criar estruturas de decisão mais complexas, em que condições adicionais são testadas dentro dos blocos de código associados aos comandos if e else. Isso é útil quando você precisa verificar múltiplas condições em sequência para determinar o fluxo do programa.\n",
    "\n",
    "Aqui está a estrutura geral de instruções if/else aninhadas em Python:"
   ]
  },
  {
   "cell_type": "code",
   "execution_count": null,
   "id": "f9354546",
   "metadata": {},
   "outputs": [],
   "source": [
    "if condição_1:\n",
    "    # código a ser executado se a condição_1 for verdadeira\n",
    "else:\n",
    "    if condição_2:\n",
    "        # código a ser executado se a condição_1 for falsa e condição_2 for verdadeira\n",
    "    else:\n",
    "        # código a ser executado se a condição_1 e a condição_2 forem falsas\n"
   ]
  },
  {
   "cell_type": "markdown",
   "id": "00ac2b51",
   "metadata": {},
   "source": [
    "Você pode adicionar mais blocos \"else\" aninhados para testar condições adicionais. Os blocos serão executados sequencialmente, de cima para baixo, até que uma condição seja verdadeira ou até que todos os blocos tenham sido verificados.\n",
    "\n",
    "Vamos ver um exemplo para melhor entender:"
   ]
  },
  {
   "cell_type": "code",
   "execution_count": null,
   "id": "8551a040",
   "metadata": {},
   "outputs": [],
   "source": [
    "idade = 25\n",
    "tem_carteira_de_motorista = True\n",
    "tem_passagem_aerea = False\n",
    "\n",
    "if idade >= 18:\n",
    "    if tem_carteira_de_motorista:\n",
    "        print(\"Você pode dirigir.\")\n",
    "    else:\n",
    "        print(\"Você não pode dirigir sem carteira de motorista.\")\n",
    "else:\n",
    "    if tem_passagem_aerea:\n",
    "        print(\"Sua viagem está confirmada.\")\n",
    "    else:\n",
    "        print(\"Você não pode viajar sem ser maior de idade ou sem passagem aérea.\")\n"
   ]
  },
  {
   "cell_type": "markdown",
   "id": "6cff4073",
   "metadata": {},
   "source": [
    "As instruções if/else aninhadas podem se tornar mais complexas à medida que você adiciona mais condições, mas são muito úteis para implementar lógica condicional mais elaborada em seus programas. Lembre-se de manter a estrutura de indentação correta para evitar erros de sintaxe em Python.\n",
    "\n",
    "Você pode substituir as estruturas aninhadas com operadores booleanos. Faça isso no exemplo anterior.\n",
    "\n",
    "# Instrução de seleção múltipla (if/else/elif):\n",
    "\n",
    "A instrução \"if/else/elif\" é usada para testar várias condições em sequência. A palavra-chave \"elif\" é uma abreviação de \"else if\" e permite verificar condições adicionais após o primeiro \"if\". A sintaxe é a seguinte:"
   ]
  },
  {
   "cell_type": "code",
   "execution_count": null,
   "id": "b0b314ec",
   "metadata": {},
   "outputs": [],
   "source": [
    "if condição1:\n",
    "    # código a ser executado se a condição1 for verdadeira\n",
    "elif condição2:\n",
    "    # código a ser executado se a condição2 for verdadeira\n",
    "elif condição3:\n",
    "    # código a ser executado se a condição3 for verdadeira\n",
    "else:\n",
    "    # código a ser executado se nenhuma das condições anteriores for verdadeira\n"
   ]
  },
  {
   "cell_type": "markdown",
   "id": "5ddbe5ed",
   "metadata": {},
   "source": [
    "Exemplo"
   ]
  },
  {
   "cell_type": "code",
   "execution_count": null,
   "id": "1e1a23dc",
   "metadata": {},
   "outputs": [],
   "source": [
    "nota = 75\n",
    "if nota >= 90:\n",
    "    print(\"Aprovado com nota A.\")\n",
    "elif nota >= 80:\n",
    "    print(\"Aprovado com nota B.\")\n",
    "elif nota >= 70:\n",
    "    print(\"Aprovado com nota C.\")\n",
    "else:\n",
    "    print(\"Reprovado.\")\n"
   ]
  },
  {
   "cell_type": "markdown",
   "id": "10a6f0dd",
   "metadata": {},
   "source": [
    "# Operador ternário:\n",
    "\n",
    "O operador ternário é uma forma concisa de escrever uma instrução de seleção simples. Ele permite avaliar uma condição e retornar um valor com base no resultado da condição, tudo em uma única linha. A sintaxe é a seguinte:"
   ]
  },
  {
   "cell_type": "code",
   "execution_count": null,
   "id": "90c216fc",
   "metadata": {},
   "outputs": [],
   "source": [
    "valor_se_verdadeiro if condição else valor_se_falso\n"
   ]
  },
  {
   "cell_type": "markdown",
   "id": "6415ba69",
   "metadata": {},
   "source": [
    "Exemplo:"
   ]
  },
  {
   "cell_type": "code",
   "execution_count": null,
   "id": "8f5b25fa",
   "metadata": {},
   "outputs": [],
   "source": [
    "idade = 20\n",
    "mensagem = \"Maior de idade\" if idade >= 18 else \"Menor de idade\"\n",
    "print(mensagem)\n"
   ]
  },
  {
   "cell_type": "markdown",
   "id": "235d56c6",
   "metadata": {},
   "source": [
    "Neste exemplo, a variável \"mensagem\" receberá o valor \"Maior de idade\" se a idade for maior ou igual a 18, caso contrário, receberá o valor \"Menor de idade\".\n",
    "\n",
    "# Match Case\n",
    "\n",
    "O match case é uma estrutura de controle introduzida na versão Python 3.10 que permite fazer correspondência de padrões (pattern matching) em valores de uma forma mais concisa e expressiva. Ele é projetado para substituir o uso de múltiplas declarações if/elif/else ou ações complexas com o operador ternário.\n",
    "\n",
    "O match case é particularmente útil quando você precisa verificar o valor de uma variável em várias condições diferentes e deseja executar ações específicas com base no padrão correspondente. Vamos ver como funciona:\n",
    "\n",
    "Sintaxe:"
   ]
  },
  {
   "cell_type": "code",
   "execution_count": null,
   "id": "4ca32576",
   "metadata": {},
   "outputs": [],
   "source": [
    "match valor:\n",
    "    case padrão1:\n",
    "        # Ação para o padrão1\n",
    "    case padrão2:\n",
    "        # Ação para o padrão2\n",
    "    case padrão3 if condição:\n",
    "        # Ação para o padrão3 com condição extra\n",
    "    case _:\n",
    "        # Ação padrão (opcional) quando nenhum dos padrões anteriores corresponde\n"
   ]
  },
  {
   "cell_type": "markdown",
   "id": "00101019",
   "metadata": {},
   "source": [
    "Aqui estão alguns exemplos para ajudar a entender melhor:\n",
    "\n",
    "Exemplo 1 - Correspondência exata:"
   ]
  },
  {
   "cell_type": "code",
   "execution_count": null,
   "id": "400c07a4",
   "metadata": {},
   "outputs": [],
   "source": [
    "def verificar_tipo(dado):\n",
    "    match dado:\n",
    "        case int:\n",
    "            print(\"É um número inteiro.\")\n",
    "        case float:\n",
    "            print(\"É um número de ponto flutuante.\")\n",
    "        case str:\n",
    "            print(\"É uma string.\")\n",
    "        case _:\n",
    "            print(\"Tipo não reconhecido.\")\n",
    "\n",
    "verificar_tipo(10)         # Saída: É um número inteiro.\n",
    "verificar_tipo(3.14)       # Saída: É um número de ponto flutuante.\n",
    "verificar_tipo(\"Python\")   # Saída: É uma string.\n",
    "verificar_tipo(True)       # Saída: Tipo não reconhecido.\n"
   ]
  },
  {
   "cell_type": "markdown",
   "id": "8c322df6",
   "metadata": {},
   "source": [
    "Exemplo 2 - Correspondência com condição:"
   ]
  },
  {
   "cell_type": "code",
   "execution_count": null,
   "id": "ab7dbafc",
   "metadata": {},
   "outputs": [],
   "source": [
    "def classificar_valor(valor):\n",
    "    match valor:\n",
    "        case x if x < 0:\n",
    "            print(\"Valor negativo\")\n",
    "        case 0:\n",
    "            print(\"Valor igual a zero\")\n",
    "        case x if x > 0:\n",
    "            print(\"Valor positivo\")\n",
    "        case _:\n",
    "            print(\"Valor não reconhecido\")\n",
    "\n",
    "classificar_valor(-5)    # Saída: Valor negativo\n",
    "classificar_valor(0)     # Saída: Valor igual a zero\n",
    "classificar_valor(10)    # Saída: Valor positivo\n",
    "classificar_valor(\"abc\") # Saída: Valor não reconhecido\n"
   ]
  },
  {
   "cell_type": "markdown",
   "id": "af80c2c3",
   "metadata": {},
   "source": [
    "Lembre-se de que, para usar o match case, você precisa ter Python 3.10 ou uma versão posterior instalada em seu ambiente. Se você estiver usando uma versão anterior, o match case não estará disponível, e você precisará utilizar outras estruturas condicionais, como if/elif/else, para realizar as mesmas tarefas.\n",
    "\n",
    "Veremos a frente como utilizar dicionários para substituir if/else em algumas situações específicas. Essa técnica é útil quando você tem um conjunto de valores de entrada e suas correspondentes saídas e deseja evitar várias declarações if/else."
   ]
  }
 ],
 "metadata": {},
 "nbformat": 4,
 "nbformat_minor": 5
}
