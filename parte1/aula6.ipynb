{
 "cells": [
  {
   "cell_type": "markdown",
   "id": "a89b664b",
   "metadata": {},
   "source": [
    "# Repetição\n",
    "\n",
    "Em Python, as estruturas de repetição são usadas para executar um bloco de código repetidamente enquanto uma determinada condição for verdadeira. Existem duas principais estruturas de repetição em Python: o loop \"for\" e o loop \"while\". Vou explicar cada um deles a seguir:\n",
    "\n",
    "## FOR\n",
    "\n",
    "O loop \"for\" é usado para iterar sobre uma sequência de elementos, como listas, strings, dicionários, etc. Ele percorre cada elemento da sequência e executa o bloco de código associado para cada elemento. A sintaxe básica do loop \"for\" é a seguinte:"
   ]
  },
  {
   "cell_type": "code",
   "execution_count": null,
   "id": "6f8bda19",
   "metadata": {},
   "outputs": [],
   "source": [
    "for elemento in sequencia:\n",
    "    # Bloco de código a ser executado\n"
   ]
  },
  {
   "cell_type": "markdown",
   "id": "4dfaecba",
   "metadata": {},
   "source": [
    "Onde:\n",
    "\n",
    "\"elemento\" é a variável que recebe cada valor da sequência em cada iteração.\n",
    "\"sequencia\" é a coleção de elementos que queremos percorrer, como uma lista, string ou outra estrutura iterável.\n",
    "\n",
    "Exemplo:"
   ]
  },
  {
   "cell_type": "code",
   "execution_count": null,
   "id": "15538978",
   "metadata": {},
   "outputs": [],
   "source": [
    "frutas = ['maçã', 'banana', 'laranja']\n",
    "\n",
    "for fruta in frutas:\n",
    "    print(fruta)\n"
   ]
  },
  {
   "cell_type": "markdown",
   "id": "fd2c00ba",
   "metadata": {},
   "source": [
    "O loop \"for\" é frequentemente utilizado em conjunto com as funções range() e enumerate() em Python para facilitar a iteração sobre sequências e obter índices durante o processo.\n",
    "\n",
    "## Função range():\n",
    "\n",
    "A função range() é usada para gerar uma sequência de números em um intervalo especificado. Ela pode ser usada de várias maneiras, mas a forma mais comum é com apenas um argumento, que representa o valor final da sequência (o valor inicial é assumido como 0). A sintaxe básica da função range() é a seguinte:"
   ]
  },
  {
   "cell_type": "code",
   "execution_count": null,
   "id": "0fb8619d",
   "metadata": {},
   "outputs": [],
   "source": [
    "range(início, fim, passo)\n"
   ]
  },
  {
   "cell_type": "markdown",
   "id": "52593398",
   "metadata": {},
   "source": [
    "início: Valor inicial da sequência (opcional, o padrão é 0).\n",
    "fim: Valor final da sequência (não inclusivo, ou seja, a sequência vai até fim - 1).\n",
    "passo: Intervalo entre os valores da sequência (opcional, o padrão é 1).\n",
    "\n",
    "Exemplo:"
   ]
  },
  {
   "cell_type": "code",
   "execution_count": null,
   "id": "a23dd55c",
   "metadata": {},
   "outputs": [],
   "source": [
    "for i in range(5):\n",
    "    print(i)\n"
   ]
  },
  {
   "cell_type": "markdown",
   "id": "caac737b",
   "metadata": {},
   "source": [
    "Você também pode combinar o range() com o len() para iterar sobre índices de uma lista e acessar seus elementos diretamente:"
   ]
  },
  {
   "cell_type": "code",
   "execution_count": null,
   "id": "1020fd4c",
   "metadata": {},
   "outputs": [],
   "source": [
    "frutas = ['maçã', 'banana', 'laranja']\n",
    "\n",
    "for i in range(len(frutas)):\n",
    "    print(frutas[i])\n"
   ]
  },
  {
   "cell_type": "markdown",
   "id": "8cf56054",
   "metadata": {},
   "source": [
    "## Função enumerate():\n",
    "\n",
    "A função enumerate() é usada para obter tanto o índice quanto o valor de cada elemento em uma sequência. Ela retorna uma tupla contendo o índice e o valor do elemento em cada iteração. A sintaxe básica da função enumerate() é a seguinte:"
   ]
  },
  {
   "cell_type": "code",
   "execution_count": null,
   "id": "7724ebb4",
   "metadata": {},
   "outputs": [],
   "source": [
    "enumerate(sequencia)\n"
   ]
  },
  {
   "cell_type": "markdown",
   "id": "c45b0eb8",
   "metadata": {},
   "source": [
    "Exemplo"
   ]
  },
  {
   "cell_type": "code",
   "execution_count": null,
   "id": "82cb8445",
   "metadata": {},
   "outputs": [],
   "source": [
    "frutas = ['maçã', 'banana', 'laranja']\n",
    "\n",
    "for indice, fruta in enumerate(frutas):\n",
    "    print(f\"Índice: {indice}, Fruta: {fruta}\")\n"
   ]
  },
  {
   "cell_type": "markdown",
   "id": "4a2610de",
   "metadata": {},
   "source": [
    "Podemos utilizar os índices gerados pelo enumerate() para acessar os elementos em outras partes do código durante o loop, caso seja necessário.\n",
    "\n",
    "## Outras funções\n",
    "\n",
    "### zip()\n",
    "\n",
    "A função zip() é usada para combinar elementos de várias sequências em tuplas durante a iteração. Ela retorna um iterador de tuplas, onde o primeiro elemento em cada sequência é combinado para formar a primeira tupla, o segundo elemento é combinado para formar a segunda tupla e assim por diante. A iteração continua até que a sequência mais curta seja esgotada. A sintaxe básica da função zip() é a seguinte:"
   ]
  },
  {
   "cell_type": "code",
   "execution_count": null,
   "id": "65f6522a",
   "metadata": {},
   "outputs": [],
   "source": [
    "zip(sequencia1, sequencia2, ...)\n"
   ]
  },
  {
   "cell_type": "markdown",
   "id": "de4f3999",
   "metadata": {},
   "source": [
    "Exemplo:"
   ]
  },
  {
   "cell_type": "code",
   "execution_count": null,
   "id": "c13cb8db",
   "metadata": {},
   "outputs": [],
   "source": [
    "frutas = ['maçã', 'banana', 'laranja']\n",
    "cores = ['vermelho', 'amarelo', 'laranja']\n",
    "\n",
    "for fruta, cor in zip(frutas, cores):\n",
    "    print(f\"{fruta} é da cor {cor}\")\n"
   ]
  },
  {
   "cell_type": "markdown",
   "id": "62b69ba3",
   "metadata": {},
   "source": [
    "### reversed():\n",
    "\n",
    "A função reversed() é usada para inverter a ordem dos elementos em uma sequência. Ela retorna um iterador reverso que pode ser utilizado no loop \"for\" para percorrer a sequência de trás para frente. A sintaxe básica da função reversed() é a seguinte:\n",
    "\n",
    "Sintaxe:"
   ]
  },
  {
   "cell_type": "code",
   "execution_count": null,
   "id": "8505d316",
   "metadata": {},
   "outputs": [],
   "source": [
    "reversed(sequencia)\n"
   ]
  },
  {
   "cell_type": "markdown",
   "id": "5cfbd259",
   "metadata": {},
   "source": [
    "Exemplo:"
   ]
  },
  {
   "cell_type": "code",
   "execution_count": null,
   "id": "65dea47c",
   "metadata": {},
   "outputs": [],
   "source": [
    "frutas = ['maçã', 'banana', 'laranja']\n",
    "\n",
    "for fruta in reversed(frutas):\n",
    "    print(fruta)\n"
   ]
  },
  {
   "cell_type": "markdown",
   "id": "3c7fff4f",
   "metadata": {},
   "source": [
    "### sorted()\n",
    "\n",
    "A função sorted() é usada para ordenar elementos em uma sequência. Ela retorna uma nova lista com os elementos ordenados. Você pode usar a lista ordenada no loop \"for\" para iterar sobre os elementos na ordem desejada. A sintaxe básica da função sorted() é a seguinte:"
   ]
  },
  {
   "cell_type": "code",
   "execution_count": null,
   "id": "375b1cfe",
   "metadata": {},
   "outputs": [],
   "source": [
    "sorted(sequencia)\n"
   ]
  },
  {
   "cell_type": "markdown",
   "id": "064dcfc3",
   "metadata": {},
   "source": [
    "Exemplo:"
   ]
  },
  {
   "cell_type": "code",
   "execution_count": null,
   "id": "e686b8f4",
   "metadata": {},
   "outputs": [],
   "source": [
    "numeros = [3, 1, 4, 1, 5, 9, 2, 6, 5, 3]\n",
    "\n",
    "for numero in sorted(numeros):\n",
    "    print(numero)\n"
   ]
  },
  {
   "cell_type": "markdown",
   "id": "70250714",
   "metadata": {},
   "source": [
    "Essas são apenas algumas das funções que podem ser usadas em conjunto com o loop \"for\" em Python. A linguagem oferece muitas outras funções e bibliotecas que podem tornar o trabalho com loops mais eficiente e conveniente, dependendo da tarefa que você está tentando realizar. Fique à vontade para explorar a documentação oficial do Python e outras fontes para conhecer mais sobre as opções disponíveis\n",
    "\n",
    "# While\n",
    "\n",
    "O loop \"while\" é usado para repetir um bloco de código enquanto uma condição for verdadeira. Ou seja, ele continua executando o bloco até que a condição se torne falsa. A sintaxe básica do loop \"while\" é a seguinte:"
   ]
  },
  {
   "cell_type": "code",
   "execution_count": null,
   "id": "d897ca1b",
   "metadata": {},
   "outputs": [],
   "source": [
    "while condição:\n",
    "    # Bloco de código a ser executado\n"
   ]
  },
  {
   "cell_type": "markdown",
   "id": "1900012a",
   "metadata": {},
   "source": [
    "O bloco de código dentro do loop continuará sendo executado enquanto a \"condição\" for avaliada como verdadeira."
   ]
  },
  {
   "cell_type": "code",
   "execution_count": null,
   "id": "3fc2bc91",
   "metadata": {},
   "outputs": [],
   "source": [
    "contador = 1\n",
    "\n",
    "while contador <= 5:\n",
    "    print(f\"Contador: {contador}\")\n",
    "    contador += 1\n"
   ]
  },
  {
   "cell_type": "markdown",
   "id": "064b9e18",
   "metadata": {},
   "source": [
    "Cuidado ao usar loops \"while\" para garantir que a condição eventualmente se torne falsa e não cause um loop infinito."
   ]
  }
 ],
 "metadata": {},
 "nbformat": 4,
 "nbformat_minor": 5
}
