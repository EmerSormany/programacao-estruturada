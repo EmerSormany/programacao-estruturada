{
 "cells": [
  {
   "cell_type": "markdown",
   "id": "28e8e6e4",
   "metadata": {},
   "source": [
    "## Sumário\n",
    "\n",
    "- 🐍 [Características da Linguagem Python](#característicass-da-linguagem-python)\n",
    "  - 🔝 [Alto Nível x Baixo Nível](#alto-níve-x-baixo-nível)\n",
    "  - 🎭 [Interpretada](#interpretada)\n",
    "  - [Tipagem dinâmica](#tipagem-dinâmica)\n",
    "  - 💪 [Fortemente tipada](#fortemente-tipada)\n",
    "  - 🦆 [Duck Typing](#duck-typing)\n",
    "  - 🐍 [PEP20](#pep-20---modo-de-programar-python)\n",
    "- 🔢 [Versões da Linguagem](#versões-da-linguagem)\n",
    "- 🛠 [Utilização e Ferramentas](#utilização-e-ferramentas)\n",
    "  - 🕸 [Web](#web-development)\n",
    "  - 🖥 [CLI](#cli-development)\n",
    "  - 💻 [GUI](#gui-development)\n",
    "  - 🎮 [Games](#game-development)\n",
    "  - 🤖 [Machine Learning](#machine-learning)\n",
    "  - 📊 [Ciência de Dados](#data-analysis-and-visualization)\n",
    "  - 🕷 [Web Scraping](#webscrapping)\n",
    "  - 🙏 [DevOps](#devops)\n",
    "  - ✅ [Testes](#software-testing)\n",
    "  - 🎲 [Banco de Dados](#banco-de-dados)\n",
    "  - 🔨 [Construção e Entrega](#software-packaging-and-deployment)\n",
    "\n",
    "## Característicass da Linguagem Python\n",
    "\n",
    "A linguagem Python tem por característica ser muito próxima à linguagem natural. É considerada como uma linguagem de altíssimo nível pois sua estrutura e instruções são de fácil entendimento, considerando o idioma inglês. Toda o conjunto de instruções, forma simplificada de uso e legibilidade a distinguem de outras linguagens de alto nível.\n",
    "\n",
    "### Alto Níve x Baixo Nível\n",
    "\n",
    "Também existem as linguagens de baixo nível, às vezes chamadas de \"linguagens de máquina\" ou \"linguagens assembly\" (linguagens de montagem). Com muita simplificação podemos dizer que o computador só consegue executar programas escritos em linguagens de baixo nível.\n",
    "\n",
    "Programas escritos em linguagens de alto nível precisam ser processados antes que possam executar. Esse pré-processamento extra demanda mais tempo, o que é uma pequena desvantagem das linguagens de alto nível. Mas as vantagens são enormes:\n",
    "\n",
    "- É muito mais fácil programar em uma linguagem de alto nível.\n",
    "- É mais rápido escrever programas em uma linguagem de alto nível;\n",
    "- Os programas ficam mais curtos, mais fáceis de ler, mais simples de alterar, e é mais provável que estejam corretos.\n",
    "- Linguagens de alto nível são portáveis, o que significa que podem rodar em diferentes tipos de computador, com pouca ou nenhuma modificação e programas em baixo nível só podem rodar em um único tipo de computador e precisam ser re-escritos para rodar em outro tipo.\n",
    "\n",
    "Devido a essas vantagens, quase todos os programas são escritos em linguagens de alto nível. As de baixo nível são utilizadas somente para umas poucas aplicações especializadas.\n",
    "\n",
    "### Interpretada\n",
    "\n",
    "Para executar um programa escrito na linguagem Python é necessário ter um programa, também chamado python. Ele é um **interpretador**. Irá verificar e executar cada instrução escrita no seu programa.\n",
    "\n",
    "Você pode utilizar o interpretador executando instrução por instrução, verificando o resultado individualmente, ou executando um script (python arquivo.py).\n",
    "\n",
    "No modo interativo cada instrução será executada e gera um retorno, se houver, imediato. Este modo é ótimo para conhecer a linguagem ou explorar recursos de módulos."
   ]
  },
  {
   "cell_type": "code",
   "execution_count": null,
   "id": "29bdfd67",
   "metadata": {
    "attributes": {
     "classes": [
      "sh"
     ],
     "id": ""
    }
   },
   "outputs": [],
   "source": [
    "# Interpretador Python\n",
    "> C:\\Users\\romulomenezesjr> python3\n",
    "Python 3.10.11 (tags/v3.10.11:7d4cc5a, Apr  5 2023, 00:38:17) [MSC v.1929 64 bit (AMD64)] on win32\n",
    "Type \"help\", \"copyright\", \"credits\" or \"license\" for more information.\n",
    ">>> nums = range(1,10)\n",
    ">>> list(nums)\n",
    "[1, 2, 3, 4, 5, 6, 7, 8, 9]"
   ]
  },
  {
   "cell_type": "markdown",
   "id": "649e5268",
   "metadata": {},
   "source": [
    "Ao executar um script com o interpretador Python você deve passar o nome do arquivo à ele. Cada instrução escrita no arquivo deverá ser interpretada uma-a-uma. Veja no exemplo a seguir que existe um erro de tipo, mas como o interpretador não consegue chegar nesta instrução, o erro não é gerado."
   ]
  },
  {
   "cell_type": "code",
   "execution_count": null,
   "id": "6050e2c2",
   "metadata": {
    "attributes": {
     ".highlight": "3",
     "classes": [
      "highlight=3"
     ],
     "id": ""
    }
   },
   "outputs": [],
   "source": [
    "# arquivo.py\n",
    "\n",
    "if False:\n",
    "   num = 2/\"2\"\n",
    "else:\n",
    "    num = 0\n",
    "print(num)"
   ]
  },
  {
   "cell_type": "code",
   "execution_count": null,
   "id": "8512e171",
   "metadata": {
    "attributes": {
     "classes": [
      "sh"
     ],
     "id": ""
    }
   },
   "outputs": [],
   "source": [
    "python3 arquivo.py"
   ]
  },
  {
   "cell_type": "markdown",
   "id": "b00c8780",
   "metadata": {},
   "source": [
    "<p align=\"center\">\n",
    "  <img src=\"../img/interpretada.png\" />\n",
    "</p>\n",
    "\n",
    "Outra forma de gerar programas é a partir de linguagens compiladas. Um programa chamado compilador lê o código e o traduz completamente antes da execução. Após a etapa de compilação você pode executar repetidamente o programa sem que precise de nova tradução/interpretação.\n",
    "\n",
    "<p align=\"center\">\n",
    "  <img src=\"../img/compile.png\" />\n",
    "</p>\n",
    "\n",
    "A linguagem Python internamente utiliza os processos, mas devido a forma com que você interage com essa linguagem, ela é em geral considerada uma linguagem interpretada. O código fonte é primeiramente compilado para uma linguagem de baixo nível, chamado de código em bytes (\"byte code\"), e então são interpretados por um programa chamado de máquina virtual.\n",
    "\n",
    "<p align=\"center\">\n",
    "  <img src=\"../img/python-compile-interpreted.png\" />\n",
    "</p>\n",
    "\n",
    "### Tipagem dinâmica\n",
    "\n",
    "O Python usa tipagem dinâmica, o que significa que você pode atribuir e reatribuir uma variável àa diferentes tipos de dados. Isso torna o Python muito flexível na atribuição de tipos de dados; ela difere de outras linguagens que são tipadas estaticamente."
   ]
  },
  {
   "cell_type": "code",
   "execution_count": null,
   "id": "03d8eaea",
   "metadata": {},
   "outputs": [],
   "source": [
    "# Python\n",
    "\n",
    "# Atribuindo um inteiro à variável num\n",
    "num = 3\n",
    "print(num)\n",
    "\n",
    "# Reatribuindo a lista dee inteiros à variável num\n",
    "num = \"1\"\n",
    "print(num)"
   ]
  },
  {
   "cell_type": "markdown",
   "id": "2fee5e0c",
   "metadata": {},
   "source": [
    "Outras linguagens exigem que você especifique o tipo antes de criar uma variável para armazenar valores. A linguagem Java é estaticamente tipada."
   ]
  },
  {
   "cell_type": "code",
   "execution_count": null,
   "id": "5fcee9bb",
   "metadata": {
    "attributes": {
     "classes": [
      "java"
     ],
     "id": ""
    }
   },
   "outputs": [],
   "source": [
    "// Java\n",
    "\n",
    "String fruta = \"Laranja\"\n",
    "fruta = 1 // Exception"
   ]
  },
  {
   "cell_type": "markdown",
   "id": "bddd9a34",
   "metadata": {},
   "source": [
    "A tipagem dinâmica é mais fácil de trabalhar e possibilita que o tempo de desenvolvimento para pequenos programas seja mais rápido. Porém, pode resultar em bugs inesperados e em alguns momentos você precisa usar a função type().\n",
    "\n",
    "### Fortemente tipada\n",
    "\n",
    "Python é uma linguagem fortemente tipada, o que significa que o interpretador não faz conversões automáticas ou coersões. O programa feito em Python necessita de um tipo exato para realizar as operações. O interpretador faz uma verificação no conteúdo das variáveis no momento da execução de uma instrução. Esta verificação é consequência da tipagem dinâmica, pois nenhuma verificação foi feita anteriormente e nenhuma conversão é automática. Isso afeta o desempenho da execução em aplicações de _extremo_ processamento.\n",
    "\n",
    "A linguagem Javascript tenta realizar conversões para executar uma operação. Isso é uma característica de linguagem fracamenta tipada."
   ]
  },
  {
   "cell_type": "code",
   "execution_count": null,
   "id": "bd35a238",
   "metadata": {
    "attributes": {
     "classes": [
      "javascript"
     ],
     "id": ""
    }
   },
   "outputs": [],
   "source": [
    "// Javascript\n",
    "\n",
    "2 / \"2\";\n",
    "1;"
   ]
  },
  {
   "cell_type": "markdown",
   "id": "14611815",
   "metadata": {},
   "source": [
    "Este mesmo código em Python resultará em um erro de tipo, pois a operação só pode ser realizada entre números."
   ]
  },
  {
   "cell_type": "code",
   "execution_count": null,
   "id": "dd04252b",
   "metadata": {},
   "outputs": [],
   "source": [
    "# Python\n",
    "\n",
    "2 / \"2\";\n",
    "TypeError"
   ]
  },
  {
   "cell_type": "markdown",
   "id": "92c0e306",
   "metadata": {},
   "source": [
    "A partir da versão 3.6 a linguagem possibilita anotações de tipos para melhor identificar o funcionamento do código. Além dos tipos básicos ainda há um módulo que pode ser importado para isso: typing"
   ]
  },
  {
   "cell_type": "code",
   "execution_count": null,
   "id": "062a8f23",
   "metadata": {},
   "outputs": [],
   "source": [
    "# Python\n",
    "\n",
    "from typing import List\n",
    "num: int = 3\n",
    "numeros: List = [1,2,3]\n",
    "def soma(a:int, b:int)-> int:\n",
    "    return a+b"
   ]
  },
  {
   "cell_type": "markdown",
   "id": "7e77bc6d",
   "metadata": {},
   "source": [
    "Adicinar anotações de tipo não é uma obrigação na linguagem Python, mas pode documentar e ajudar quando trabalhamos com código longo, evitando erros e mantendo os tipos sem variações.\n",
    "\n",
    "![Plano Carteziano.](../img/tipagem.jpg)\n",
    "\n",
    "### Duck Typing\n",
    "\n",
    "Outro termo usado para descrever a tipagem em Python é o _Duck Typing_. Pelo conceito: \"Se algo parece com um pato, faz barulho de pato ou anda como um pato, então deve ser um pato\".\n",
    "\n",
    "Este conceito não observa o tipo de um objeto, apenas se ele é capaz de realizar uma operação. Em um programa, se algo possui um método então pode ser usado para determinado fim, sem que haja verificação de tipo. Este conceito é utilizado nos métodos mágicos e nos métodos _dunder_.\n",
    "\n",
    "Exempo: A função len() do Python calcula o comprimento de algo (Strings, Listas, etc.). Ela não existe um tipo, mas solicita que o que esteja sendo passado à ela saida dizer seu tamanho."
   ]
  },
  {
   "cell_type": "code",
   "execution_count": null,
   "id": "fe9a5690",
   "metadata": {},
   "outputs": [],
   "source": [
    "# Python\n",
    "\n",
    "nome = \"Maria\"\n",
    "numeros = [1,2,3]\n",
    "len(nome)       # 5\n",
    "len(numeros)    # 3"
   ]
  },
  {
   "cell_type": "markdown",
   "id": "5b4c31eb",
   "metadata": {},
   "source": [
    "### PEP 20 - Modo de Programar Python\n",
    "\n",
    "A linguagem Python é construída a partir de proposta para melhoramento do Python discutidas entre a comunidade de programadores. Estas propostas são chamadas de [PEP's (Python Enhancement Proposal)](https://peps.python.org/pep-0001/). Duas PEP's muito importantantes para compreender a estrutura da linguagem são a [PEP20](https://peps.python.org/pep-0020/) (estilo) e a [PEP8](https://peps.python.org/pep-0008/) (formatação). A PEP20 é chamada de modo Python de Programar e possui o seguinte conteúdo:\n",
    "\n",
    "> Beautiful is better than ugly.\\\n",
    "> Explicit is better than implicit.\\\n",
    "> Simple is better than complex.\\\n",
    "> Complex is better than complicated.\\\n",
    "> Flat is better than nested.\\\n",
    "> Sparse is better than dense.\\\n",
    "> Readability counts.\\\n",
    "> Special cases aren't special enough to break the rules.\\\n",
    "> Although practicality beats purity.\\\n",
    "> Errors should never pass silently.\\\n",
    "> Unless explicitly silenced.\\\n",
    "> In the face of ambiguity, refuse the temptation to guess.\\\n",
    "> There should be one-- and preferably only one --obvious way to do it.\\\n",
    "> Although that way may not be obvious at first unless you're Dutch.\\\n",
    "> Now is better than never.\\\n",
    "> Although never is often better than _right_ now.\\\n",
    "> If the implementation is hard to explain, it's a bad idea.\\\n",
    "> If the implementation is easy to explain, it may be a good idea.\\\n",
    "> Namespaces are one honking great idea -- let's do more of those!\n",
    "\n",
    "# Versões da linguagem\n",
    "\n",
    "Com a evolução da linguagem são adicionadas novas funcionalidades, melhorias de desempenho e ferramentas para auxiliar no desenvolvimento. A seguir estão algumas versões e datas de lançamento. Veja o destaque para a documentação da versão 2.7, que foi muito utilizada e para a versão atual (3.11).\n",
    "\n",
    "- Python 1.0 - Jan 1994\n",
    "- Python 2.0 - Out 2000.\n",
    "- [Python 2.7](https://docs.python.org/2.7/) - Jan 2010\n",
    "- Python 3.0 - Dez 2008\n",
    "- [Python 3.11.4](https://docs.python.org/3.11/) - Jun 2023.\n",
    "\n",
    "Cada versão possui um ciclo de atualizações que é mantida por um período de tempo.\n",
    "Essas atualizações podem ser para resolver bugs ou problemas de segurança. Atualizações menores, como da versão 3.11.1 para a 3.11.2 resolvem pequenos problemas. Novas funcionalidades são inseridas em versões maiores, como por exemplo: A mudança da versão 3.10 para 3.11 ocorre adição de funcionalidades propostas e aprovadas em PEP's.\n",
    "\n",
    "![Versões Python](../img/python-versions.png)\n",
    "\n",
    "Quando temos diferentes projetos que usam a linguagem Python é comum criarmos ambientes virtuais para a execução separada, assim as bibliotecas e versões de outros projetos não entram em conflito.\n",
    "\n",
    "![Ambientes Virtuais Python](../img/venv.png)\n",
    "\n",
    "Para a versão 3.6+ estes ambientes virutais são criados com o comando."
   ]
  },
  {
   "cell_type": "code",
   "execution_count": null,
   "id": "35b1eb99",
   "metadata": {
    "attributes": {
     "classes": [
      "sh"
     ],
     "id": ""
    }
   },
   "outputs": [],
   "source": [
    "python -m venv .venv\n",
    "source .env/bin/activate"
   ]
  },
  {
   "cell_type": "markdown",
   "id": "ef150049",
   "metadata": {},
   "source": [
    "Para a versão 2.7 estes ambientes virutais são criados com o comando."
   ]
  },
  {
   "cell_type": "code",
   "execution_count": null,
   "id": "a57b408e",
   "metadata": {
    "attributes": {
     "classes": [
      "sh"
     ],
     "id": ""
    }
   },
   "outputs": [],
   "source": [
    "virtualenv -p /usr/bin/python2 env\n",
    "source env/bin/activate"
   ]
  },
  {
   "cell_type": "markdown",
   "id": "6c2c0cc6",
   "metadata": {},
   "source": [
    "# Utilização e Ferramentas\n",
    "\n",
    "Para construir programas mais complexos e que possuem muitas funcionalidades é comum utilizar ferramentas e bibliotecas que auxiliam no desenvolvimento pois já possuem várias funções prontas. Na linguagem Python existem diversos projetos de ferramentas e bibliotecas que você deve conhecer para programas maiores:\n",
    "\n",
    "## Web Development\n",
    "\n",
    "Desenvolver aplicações web com Python é uma das habilidades mais procuradas, com muitas oportunidades disponíveis para você. Nesse campo, você encontrará vários frameworks, bibliotecas e ferramentas úteis em Python para desenvolver aplicações web, APIs e muito mais. Aqui estão alguns dos frameworks web Python mais populares:\n",
    "\n",
    "- Django: Django é um framework de alto nível que incentiva o desenvolvimento rápido de aplicações web com um design limpo e pragmático. Ele permite que você se concentre em escrever suas aplicações sem precisar reinventar a roda.\n",
    "\n",
    "- FastAPI: FastAPI é um framework web rápido e eficiente para construir APIs web. Ele é construído em cima dos recursos modernos de dicas de tipos do Python e permite programação assíncrona.\n",
    "\n",
    "- Flask: Flask é um framework leve para criar aplicações web WSGI. Ele permite que você comece rapidamente e possa escalar para aplicações complexas, se necessário.\n",
    "\n",
    "## CLI Development\n",
    "\n",
    "Outro campo em que o Python se destaca é o desenvolvimento de aplicativos de interface de linha de comando (CLI). Aplicativos CLI estão em todos os lugares e permitem automatizar tarefas repetitivas e tediosas no seu trabalho diário, criando ferramentas pequenas e grandes para a linha de comando.\n",
    "\n",
    "Em Python, você tem um conjunto impressionante de bibliotecas e frameworks para CLI que podem tornar sua vida mais agradável e ajudá-lo a construir ferramentas de linha de comando rapidamente:\n",
    "\n",
    "- argparse: argparse é um módulo da biblioteca padrão que permite escrever interfaces de linha de comando amigáveis ao usuário. Você pode definir os argumentos que deseja receber na linha de comando e analisá-los de forma clara. Ele gera automaticamente mensagens de ajuda e uso, além de emitir erros quando os usuários fornecem entradas inválidas.\n",
    "\n",
    "- Click: Click é um pacote Python para criar interfaces de linha de comando bonitas com o mínimo de código necessário. É altamente configurável e vem com padrões sensatos prontos para uso. Seus objetivos incluem tornar o processo de escrever ferramentas de linha de comando rápido e divertido.\n",
    "\n",
    "- Typer: Typer é uma biblioteca para construir aplicativos CLI que os usuários adorarão usar e os desenvolvedores adorarão criar. Ele fornece mensagens de ajuda automáticas e conclusão automática para todos os shells. Ele minimiza a duplicação de código e facilita a depuração.\n",
    "\n",
    "## GUI Development\n",
    "\n",
    "Aplicativos de interface gráfica do usuário (GUI) tradicionais para ambientes de desktop também são uma opção atraente em Python. Se você está interessado em construir esse tipo de aplicativo, o Python tem várias opções de bibliotecas, frameworks e conjuntos de ferramentas para escolher:\n",
    "\n",
    "- Kivy: Kivy é uma biblioteca para desenvolvimento rápido de aplicativos com interfaces de usuário inovadoras, como aplicações multi-touch. Ele é executado no Linux, Windows, macOS, Android, iOS e Raspberry Pi.\n",
    "\n",
    "- PyQt: PyQt é um conjunto de bindings Python para o framework de aplicativos Qt. Ele inclui classes para construir aplicativos GUI. Também fornece classes para rede, threads, bancos de dados SQL e muito mais. Ele suporta as plataformas Windows, Linux e macOS.\n",
    "\n",
    "- tkinter: tkinter é uma interface Python padrão para o toolkit GUI Tk. Ele permite que você construa aplicativos GUI sem a necessidade de dependências de terceiros. Está disponível na maioria das plataformas Unix, bem como em sistemas Windows.\n",
    "\n",
    "## Game Development\n",
    "\n",
    "Criar jogos de computador é uma ótima maneira de aprender a programar não apenas em Python, mas também em qualquer outra linguagem. Para desenvolver jogos, você precisará usar variáveis, loops, declarações condicionais, funções, programação orientada a objetos e muito mais. O desenvolvimento de jogos é uma excelente opção para integrar várias habilidades.\n",
    "\n",
    "Você encontrará várias ferramentas, bibliotecas e frameworks no ecossistema do Python para criar jogos rapidamente. Aqui está uma pequena amostra deles:\n",
    "\n",
    "- Arcade: Arcade é uma biblioteca Python para criar jogos de vídeo 2D. É ideal para pessoas que estão aprendendo a programar, pois não precisam aprender um framework de jogos complexo para começar a criar seus próprios jogos.\n",
    "\n",
    "- PyGame: PyGame é um conjunto de módulos Python projetados para escrever jogos de vídeo. Ele adiciona funcionalidades em cima da biblioteca SDL. Permite que você crie jogos completos e programas multimídia. A biblioteca é altamente portátil e roda em várias plataformas e sistemas operacionais.\n",
    "\n",
    "- pyglet: pyglet é uma poderosa biblioteca Python para criar jogos e outras aplicações visualmente ricas no Windows, macOS e Linux. Ele suporta criação de janelas, manipulação de eventos de interface do usuário, gráficos OpenGL, carregamento de imagens, reprodução de vídeos e músicas.\n",
    "\n",
    "## Machine Learning\n",
    "\n",
    "A aprendizagem de máquina pode ser o primeiro passo para alguém interessado em inteligência artificial. A aprendizagem de máquina estuda algoritmos que aprendem por meio da experiência. Esses algoritmos constroem modelos com base em amostras de dados de treinamento para fazer previsões e tomar decisões.\n",
    "\n",
    "- Keras: Keras é um framework de aprendizado profundo de alta qualidade com uma API projetada para ser amigável aos seres humanos. Ele permite que você execute novos experimentos e experimente ideias rapidamente. Segue as melhores práticas para reduzir a carga cognitiva.\n",
    "\n",
    "- NLTK: NLTK é uma plataforma para construir programas Python para trabalhar com dados de linguagem humana. Ele fornece bibliotecas para classificação, tokenização, stemming, marcação, análise e raciocínio semântico.\n",
    "\n",
    "- PyTorch: PyTorch é um framework de aprendizado de máquina de código aberto que acelera o caminho desde o protótipo de pesquisa até a implantação em produção.\n",
    "\n",
    "- scikit-learn: scikit-learn é uma biblioteca de aprendizado de máquina de código aberto que suporta aprendizado supervisionado e não supervisionado. É uma ferramenta eficiente para análise preditiva de dados que é acessível a todos e reutilizável em vários contextos.\n",
    "\n",
    "- TensorFlow: TensorFlow é uma plataforma de código aberto de ponta a ponta para aprendizado de máquina. Possui um ecossistema abrangente e flexível de ferramentas, bibliotecas e recursos da comunidade que o ajudarão a construir e implantar aplicativos com potência de ML.\n",
    "\n",
    "## Computação Científica/Ciência de Dados\n",
    "\n",
    "- [Numpy](https://numpy.org/): Pacote para computação científica que possui diversas funções de matemática, algebra linear e transofrmações de Fourier.\n",
    "- [Scipy](https://www.scipy.org/): Pacote para computação com recursos para física, matemática e engenharia.\n",
    "- [SimPy](https://simpy.readthedocs.io/en/latest/): Framwork para simulação de eventos. Pode simular aeroportos, rodovias, atendimentos ao cliente, etc.\n",
    "\n",
    "## Data Analysis and Visualization\n",
    "\n",
    "- Matplotlib: Uma biblioteca para criar visualizações de dados estáticas, animadas e interativas em Python.\n",
    "\n",
    "- pandas: pandas é uma ferramenta poderosa e flexível de código aberto para análise e manipulação de dados. Ele fornece estruturas de dados rápidas, flexíveis e expressivas para trabalhar com dados relacionais ou rotulados.\n",
    "\n",
    "- Seaborn: Biblioteca de visualização de dados baseada no Matplotlib. Ela fornece uma interface de alto nível para desenhar gráficos estatísticos atraentes e informativos que permitem explorar e entender seus dados. Ela se integra de forma próxima com as estruturas de dados do pandas.\n",
    "\n",
    "## Webscrapping\n",
    "\n",
    "- [Beautiful](https://www.crummy.com/software/BeautifulSoup/bs4/doc/) Soup: Biblioteca python para recuperar dados de arquivos HTML e XML. Possibilita navegação, pesquisa, modificação e recuperação de informações no formato de árvores.\n",
    "- [Requests](https://requests.readthedocs.io/en/latest/): Biblioteca python para recuperar conteúdo acesado via HTTP de forma simples.\n",
    "- [Scrapy](https://docs.scrapy.org/en/latest/): Framework para realizar webcrawling em páginas web\n",
    "\n",
    "## Devops\n",
    "\n",
    "- [Ansible](https://www.ansible.com/): Ferramenta feita em Python para configurar, gerenciar e implantar aplicações. Segue o conceito de infraestrutura a partir do código.\n",
    "- [Docker Compose](https://docs.docker.com/compose/): Ferramenta para criar e executar múltiplos containers Docker. A configuração é feita com um arquivo de descrição YAML e a ferramenta realiza os passos descritos.\n",
    "\n",
    "## Software Testing\n",
    "\n",
    "- doctest: doctest é um módulo padrão que busca suas docstrings por trechos de texto que se parecem com sessões interativas do Python e os executa para verificar se eles funcionam corretamente.\n",
    "\n",
    "- pytest: pytest é um framework de teste robusto e maduro que permite que você escreva e automatize testes. Ele pode ser usado desde pequenos testes unitários até testes funcionais complexos para suas aplicações e bibliotecas.\n",
    "\n",
    "## Banco de Dados\n",
    "\n",
    "- sqlite3: sqlite3 é um banco de dados leve baseado em disco que não requer um processo de servidor separado. Ele permite que você acesse bancos de dados usando uma variante não padrão de SQL. Ele está disponível gratuitamente e faz parte da biblioteca padrão do Python.\n",
    "\n",
    "- SQLAlchemys: SQLAlchemys é um kit de ferramentas SQL para Python e um mapeador objeto-relacional para bancos de dados SQL.\n",
    "\n",
    "- MongoEngine: MongoEngine é um mapeador de documentos para trabalhar com o MongoDB usando programação orientada a objetos em Python.\n",
    "\n",
    "- MySQL Connector/Python: MySQL Connector/Python é um driver Python autocontido para se comunicar com servidores MySQL.\n",
    "\n",
    "## Software Packaging and Deployment\n",
    "\n",
    "- Flit: Uma ferramenta que oferece uma maneira rápida de colocar seus pacotes e módulos Python no PyPI. Ela ajuda a configurar as informações sobre o seu pacote, para que você possa publicá-lo no PyPI com esforço mínimo.\n",
    "\n",
    "- Poetry: Poetry é uma ferramenta para criar, construir, instalar e empacotar projetos Python. Ele também permite que você publique seus projetos no PyPI. Ele rastreia e resolve as dependências do seu projeto. Usa seus ambientes virtuais atuais ou cria novos para isolar seus pacotes da instalação do Python no sistema.\n",
    "\n",
    "- PyInstaller: PyInstaller é uma ferramenta que transforma aplicações Python em executáveis independentes que funcionam no Windows, GNU/Linux, macOS e outros sistemas.\n",
    "\n",
    "# Exercício\n",
    "\n",
    "Faça uma pesquisa sobre as empresas que utilizam Python e as vagas de emprego existentes. Pesquisa os requisitos e faixa salarial.\n",
    "\n",
    "# Referencias\n",
    "\n",
    "[Versões do Python](https://www.python.org/doc/versions/)\n",
    "\n",
    "[Python Type Checking (Guide)](https://realpython.com/python-type-checking/)"
   ]
  }
 ],
 "metadata": {},
 "nbformat": 4,
 "nbformat_minor": 5
}
