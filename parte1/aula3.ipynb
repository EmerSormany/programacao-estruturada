{
 "cells": [
  {
   "cell_type": "markdown",
   "id": "893e93eb",
   "metadata": {},
   "source": [
    "# Sintaxe e estilo\n",
    "\n",
    "# Variáveis, constante e escopos\n",
    "\n",
    "Variáveis são maneiras de se atribuir valores à nomes. Python é uma linguagem onde o tipo da variável é dinâmico, ou seja, não é necessário defini-lo antes da utilzação. É possível realizar operações sem conhecer o tipo da variável. O processo de atribuição de um valor à uma variável é chamado de atribuição, e é realizado com um sinal de igual, =, por exemplo:"
   ]
  },
  {
   "cell_type": "code",
   "execution_count": null,
   "id": "cb1346d4",
   "metadata": {},
   "outputs": [],
   "source": [
    "# nome=valor.\n",
    "a = 1\n",
    "b = 2\n",
    "c = a + b\n",
    "print(c)"
   ]
  },
  {
   "cell_type": "markdown",
   "id": "2028140f",
   "metadata": {},
   "source": [
    "# Tipos de dados (int, float, complex, boolean, string)\n",
    "\n",
    "Python vem com alguns tipos básicos de objetos, dentre eles:\n",
    "\n",
    "- bool: verdadeiro ou falso.\n",
    "- int: números inteiros.\n",
    "- float: números reais.\n",
    "- complex: números complexos.\n",
    "- str: strings (textos).\n",
    "\n",
    "Outros tipos compotos sãos\n",
    "\n",
    "- list: listas de dados de outros tipos.\n",
    "- tuple: Tuplas de dados.\n",
    "- dict: dicionários que mapeiam dois valores (chave e valor).\n",
    "\n",
    "## Booleano: bool\n",
    "\n",
    "Representam valores lógicos verdadeiro ou falso. Os valores possíveis são True e False (esses valores são sensíveis a maiúsculas e minúsculas). São comumente usados em expressões condicionais e operadores booleanos (or, and e not). Veja o exemplo :"
   ]
  },
  {
   "cell_type": "code",
   "execution_count": null,
   "id": "503c5602",
   "metadata": {},
   "outputs": [],
   "source": [
    "ativo = True\n",
    "logado = False\n",
    "\n",
    "if ativo and logado:\n",
    "    print(\"Acesso liberado\")"
   ]
  },
  {
   "cell_type": "markdown",
   "id": "41cdbd2f",
   "metadata": {},
   "source": [
    "Os valores booleanos são fundamentais para a lógica de programação e para tomar decisões com base em condições.\n",
    "\n",
    "## Inteiro: int\n",
    "\n",
    "O tipo de dado \"int\" (inteiro) no Python é usado para representar números inteiros positivos, negativos ou zero, sem parte fracionária. Os valores inteiros são representados pelo tipo de objeto \"int\" e podem ser usados para realizar operações matemáticas, contagem, iterações e muito mais.\n",
    "\n",
    "Aqui estão alguns exemplos de uso do tipo \"int\" no Python:"
   ]
  },
  {
   "cell_type": "code",
   "execution_count": null,
   "id": "7198e965",
   "metadata": {},
   "outputs": [],
   "source": [
    "x = 5\n",
    "y = -10\n",
    "z = 0\n"
   ]
  },
  {
   "cell_type": "markdown",
   "id": "129ce10a",
   "metadata": {},
   "source": [
    "Você pode realizar várias operações matemáticas usando valores inteiros. Por exemplo:"
   ]
  },
  {
   "cell_type": "code",
   "execution_count": null,
   "id": "a30b023c",
   "metadata": {},
   "outputs": [],
   "source": [
    "a = 10\n",
    "b = 3\n",
    "\n",
    "soma = a + b  # soma de dois inteiros\n",
    "subtracao = a - b  # subtração de dois inteiros\n",
    "multiplicacao = a * b  # multiplicação de dois inteiros\n",
    "divisao = a / b  # divisão de dois inteiros (resulta em um float)\n",
    "resto = a % b  # resto da divisão de dois inteiros\n",
    "potencia = a ** b  # a elevado à potência b\n",
    "\n",
    "print(soma, subtracao, multiplicacao, divisao, resto, potencia)\n"
   ]
  },
  {
   "cell_type": "markdown",
   "id": "fccaf5a3",
   "metadata": {},
   "source": [
    "Além das operações matemáticas básicas, o tipo \"int\" também suporta outras operações, como operações de comparação (<, >, <=, >=, ==, !=) e operações lógicas (and, or, not)."
   ]
  },
  {
   "cell_type": "code",
   "execution_count": null,
   "id": "1615dc9e",
   "metadata": {},
   "outputs": [],
   "source": [
    "x = 5\n",
    "y = 10\n",
    "\n",
    "comparacao = x < y # Verifica se x é menor que y\n",
    "igualdade = x == y # Verifica se x é igual a y\n",
    "logica = (x < 10) and (y > 5) # Verifica se x é menor que 10 E y é maior que 5\n",
    "\n",
    "print(comparacao, igualdade, logica)"
   ]
  },
  {
   "cell_type": "markdown",
   "id": "30b045f4",
   "metadata": {},
   "source": [
    "Vale ressaltar que, no Python, os inteiros não têm um limite de tamanho fixo. O tamanho do inteiro é limitado apenas pela memória disponível no sistema. Isso significa que você pode realizar cálculos com números inteiros muito grandes sem se preocupar com um estouro de tamanho.\n",
    "\n",
    "## Ponto Flutuante: float\n",
    "\n",
    "O tipo de dado \"float\" (ponto flutuante) no Python é usado para representar números reais, ou seja, números com parte fracionária. Os valores \"float\" são representados pelo tipo de objeto \"float\" e podem ser usados para realizar operações matemáticas mais precisas.\n",
    "\n",
    "Aqui estão alguns exemplos de uso do tipo \"float\" no Python:"
   ]
  },
  {
   "cell_type": "code",
   "execution_count": null,
   "id": "f95412e8",
   "metadata": {},
   "outputs": [],
   "source": [
    "x = 3.14\n",
    "y = -2.5\n",
    "z = 0.0\n"
   ]
  },
  {
   "cell_type": "markdown",
   "id": "71c32c24",
   "metadata": {},
   "source": [
    "É importante estar ciente de que operações de ponto flutuante podem levar a resultados aproximados devido à limitação da representação binária dos números reais. Isso ocorre devido a características da arquitetura dos computadores e à representação em base 2 dos números. Por exemplo:"
   ]
  },
  {
   "cell_type": "code",
   "execution_count": null,
   "id": "26381fe5",
   "metadata": {},
   "outputs": [],
   "source": [
    "c = 0.1 + 0.2\n",
    "print(c)  # Resultado: 0.30000000000000004\n"
   ]
  },
  {
   "cell_type": "markdown",
   "id": "9eda0317",
   "metadata": {},
   "source": [
    "## Complexo: complex\n",
    "\n",
    "O tipo de dado \"complex\" (complexo) no Python é usado para representar números complexos, que são uma combinação de uma parte real e uma parte imaginária. Os valores complexos são representados pelo tipo de objeto \"complex\" e podem ser usados para realizar operações matemáticas envolvendo números complexos.\n",
    "\n",
    "Aqui estão alguns exemplos de uso do tipo \"complex\" no Python:"
   ]
  },
  {
   "cell_type": "code",
   "execution_count": null,
   "id": "9e6cffc5",
   "metadata": {},
   "outputs": [],
   "source": [
    "z = 2 + 3j\n",
    "\n",
    "print(abs(z))  # Valor absoluto de z\n",
    "print(z.real)  # Parte real de z\n",
    "print(z.imag)  # Parte imaginária de z"
   ]
  },
  {
   "cell_type": "markdown",
   "id": "edcd8f97",
   "metadata": {},
   "source": [
    "## Strings: str\n",
    "\n",
    "Em Python, strings são demarcadas por aspas, tanto simples (') quanto duplas (\"), mas somente uma ou outra dentro de uma string. Há um caso especial, utilizando aspas triplas (''' ou \"\"\"), que é utilizado para linhas mais compridas de texto. Preferencialmente usamos aspas simples.\n",
    "\n",
    "Strings são conjuntos imutáveis (não se preocupe com o termo agora) de caracteres. Python 3 utiliza, por padrão, o conjunto de caracteres Unicode, ou UTF-8. Isso significa que falantes de línguas como Português, que possuem diacríticos (á, à, ã, ç), podem facilmente utilizar strings com os caracteres nativos. Como já escrito, strings são sempre envolvidas por aspas simples ou duplas.\n",
    "\n",
    "# Operadores (atribuição, aritméticos, relacionais e lógicos)\n",
    "\n",
    "## Atribuição\n",
    "\n",
    "1. Atribuição Simples\n",
    "\n",
    "   Na atribuição simples, você usa o operador de atribuição (=) para associar um valor a uma única variável.\n",
    "\n",
    "   ```python\n",
    "   x = 10\n",
    "   print(x)  # Saída: 10\n",
    "\n",
    "   ```\n",
    "\n",
    "2. Atribuição Múltipla\n",
    "\n",
    "   A atribuição múltipla permite que você associe valores a várias variáveis em uma única instrução. Você pode separar as variáveis e os valores correspondentes por vírgulas. A ordem em que as variáveis estão dispostas a esquerda, receberá, na mesma ordem, os respectivos valores a direita.\n",
    "\n",
    "   ```python\n",
    "   a, b, c = 1, 2, 3\n",
    "   print(a)  # Saída: 1\n",
    "   print(b)  # Saída: 2\n",
    "   print(c)  # Saída: 3\n",
    "\n",
    "   ```\n",
    "\n",
    "3. Atribuição Múltipla e Desempacotamento\n",
    "\n",
    "   A atribuição múltipla também pode ser usada com o desempacotamento de sequências, como listas ou tuplas, onde o número de elementos na sequência corresponde ao número de variáveis.\n",
    "\n",
    "   ```python\n",
    "   lista = [10, 20, 30]\n",
    "   x, y, z = lista\n",
    "   print(x)  # Saída: 10\n",
    "   print(y)  # Saída: 20\n",
    "   print(z)  # Saída: 30\n",
    "\n",
    "   ```\n",
    "\n",
    "   Ainda é possível realizar a atribuição múltipla para algumas posiçõe iniciais descartar as demais. Isso pode ser feito com \\*args. Veja o exemplo:\n",
    "\n",
    "   ```python\n",
    "   lista = [10, 20, 30, 40, 50, 60, 70]\n",
    "   x, y, w, *resto = lista\n",
    "   print(x)  # Saída: 10\n",
    "   print(y)  # Saída: 20\n",
    "   print(w)  # Saída: 30\n",
    "   print(resto)  # Saída: [40, 50, 60, 70]\n",
    "   ```\n",
    "\n",
    "## Aritméticos\n",
    "\n",
    "1. Adição (+):\n",
    "\n",
    "   O operador + é usado para somar dois valores.\n",
    "\n",
    "   Exemplo:\n",
    "\n",
    "   ```python\n",
    "   a = 5\n",
    "   b = 3\n",
    "   soma = a + b\n",
    "   print(soma)  # Saída: 8\n",
    "\n",
    "   ```\n",
    "\n",
    "2. Subtração (-):\n",
    "\n",
    "   O operador - é usado para subtrair um valor de outro.\n",
    "\n",
    "   Exemplo:\n",
    "\n",
    "   ```python\n",
    "   a = 7\n",
    "   b = 4\n",
    "   diferenca = a - b\n",
    "   print(diferenca)  # Saída: 3\n",
    "   ```\n",
    "\n",
    "3. Multiplicação (\\*):\n",
    "\n",
    "   O operador \\* é usado para multiplicar dois valores.\n",
    "\n",
    "   Exemplo:\n",
    "\n",
    "   ```python\n",
    "   a = 6\n",
    "   b = 2\n",
    "   produto = a * b\n",
    "   print(produto)  # Saída: 12\n",
    "   ```\n",
    "\n",
    "4. Divisão (/):\n",
    "\n",
    "   O operador / é usado para realizar a divisão entre dois valores. O resultado é um número de ponto flutuante. Exemplo:\n",
    "\n",
    "   ```python\n",
    "   a = 1\n",
    "   b = 3\n",
    "   quociente = a / b\n",
    "   print(quociente)  # Saída: 0.3333333333333335\n",
    "\n",
    "   ```\n",
    "\n",
    "   [Entenda mais sobre pontos flutuantes](https://0.30000000000000004.com/)\n",
    "\n",
    "5. Divisão inteira (//):\n",
    "\n",
    "   O operador // é usado para realizar a divisão inteira entre dois valores. O resultado é o quociente da divisão como um número inteiro, arredondado em direção a menos infinito.\n",
    "\n",
    "   Exemplo:\n",
    "\n",
    "   ```python\n",
    "   a = 10\n",
    "   b = 3\n",
    "   quociente = a // b\n",
    "   print(quociente)  # Saída: 3\n",
    "\n",
    "   ```\n",
    "\n",
    "6. Resto da divisão (%):\n",
    "\n",
    "   O operador % retorna o resto da divisão entre dois valores.\n",
    "\n",
    "   Exemplo:\n",
    "\n",
    "   ```python\n",
    "   a = 10\n",
    "   b = 3\n",
    "   resto = a % b\n",
    "   print(resto)  # Saída: 1\n",
    "   ```\n",
    "\n",
    "7. Operadores Compostos: Atribuição Operação Aritmética\n",
    "\n",
    "   O operador de atribuição (=) é usado para atribuir um valor a uma variável. Você pode combinar o operador de atribuição com os operadores matemáticos para realizar operações e atribuir o resultado a uma variável. Exemplo:\n",
    "\n",
    "   ```python\n",
    "   a = 5  # Atribuição inicial\n",
    "   b = 3\n",
    "\n",
    "   # Utilizando operadores matemáticos em conjunto com o operador de atribuição\n",
    "   a += b  # Equivale a: a = a + b\n",
    "   print(a)  # Saída: 8\n",
    "\n",
    "   a -= b  # Equivale a: a = a - b\n",
    "   print(a)  # Saída: 5\n",
    "\n",
    "   a *= b  # Equivale a: a = a * b\n",
    "   print(a)  # Saída: 15\n",
    "\n",
    "   a /= b  # Equivale a: a = a / b\n",
    "   print(a)  # Saída: 5.0 (resultado é um número de ponto flutuante)\n",
    "\n",
    "   a //= b  # Equivale a: a = a // b\n",
    "   print(a)  # Saída: 1 (resultado é um número inteiro)\n",
    "\n",
    "   a %= b  # Equivale a: a = a % b\n",
    "   print(a)  # Saída: 1\n",
    "\n",
    "   a **= b  # Equivale a: a = a ** b\n",
    "   print(a)  # Saída: 1\n",
    "\n",
    "   ```\n",
    "\n",
    "## Operador de Associação e Identidade\n",
    "\n",
    "1. Identidade\n",
    "   Este operador é utilizado para comparar objetos, verificando se os objetos testados referenciam o mesmo objeto\n",
    "\n",
    "   ```python\n",
    "   lista = [1, 2, 3]\n",
    "   outra_lista = [1, 2, 3]\n",
    "   recebe_lista = lista\n",
    "\n",
    "   # Recebe True, pois são o mesmo objeto\n",
    "\n",
    "   print(f\"São o mesmo objeto? {lista is recebe_lista}\")\n",
    "\n",
    "   # Retorna False, pois são objetos diferentes\n",
    "\n",
    "   print(f\"São o mesmo objeto? {lista is outra_lista}\")\n",
    "   ```\n",
    "\n",
    "   Exemplo do operador **is not**\n",
    "\n",
    "   ```python\n",
    "   lista = [1, 2, 3]\n",
    "   outra_lista = [1, 2, 3]\n",
    "   print(lista is not outra_lista) # Retorna True pois são objetos diferentes.\n",
    "   ```\n",
    "\n",
    "2. Associação\n",
    "   Eles servem para verificar se determinado objeto está associado ou pertence a determinada estrutura de dados.\n",
    "\n",
    "   **in** Retorna True caso o valor seja encontrado na sequência\n",
    "   **not in** Retorna True caso o valor não seja encontrado na sequência\n",
    "\n",
    "   ```python\n",
    "   lista = [\"Python\", \"Operadores\"]\n",
    "   # Verifica se existe a string dentro da lista\n",
    "   print('Python' in lista) # Saída: True\n",
    "   # Verifica se não existe a string dentro da lista\n",
    "   print('Javascript' not in lista) # Saída: True\n",
    "   ```\n",
    "\n",
    "### PEMDAS\n",
    "\n",
    "O PEMDAS é um acrônimo que representa a ordem de precedência dos operadores matemáticos. Ele é usado para determinar a sequência correta de avaliação de expressões matemáticas complexas.\n",
    "\n",
    "- P: Parênteses: os cálculos dentro de parênteses são realizados primeiro.\n",
    "\n",
    "- E: Expoentes: as operações de exponenciação são realizadas em seguida.\n",
    "\n",
    "- MD: Multiplicação e Divisão: as operações de multiplicação e divisão são realizadas da esquerda para a direita, na ordem em que aparecem na expressão.\n",
    "\n",
    "- AS: Adição e Subtração: as operações de adição e subtração são realizadas da esquerda para a direita, na ordem em que aparecem na expressão.\n",
    "\n",
    "Quando possuimos expressões complexas é recomendado sempre utilizar paranteses e evitar erros na expressão. Veja o exemplo:"
   ]
  },
  {
   "cell_type": "code",
   "execution_count": null,
   "id": "7b1c168a",
   "metadata": {},
   "outputs": [],
   "source": [
    "expressao = 3 + 4 * 2 / (1 - 5) ** 2\n",
    "\n",
    "# Aplicando o PEMDAS passo a passo\n",
    "passo1 = 1 - 5  # Resultado: -4\n",
    "passo2 = (1 - 5) ** 2  # Resultado: 16\n",
    "passo3 = 4 * 2  # Resultado: 8\n",
    "passo4 = 3 + (4 * 2) / (1 - 5) ** 2  # Resultado: 3.5\n",
    "\n",
    "print(expressao)  # Saída: 3.5\n"
   ]
  },
  {
   "cell_type": "markdown",
   "id": "96de958d",
   "metadata": {},
   "source": [
    "### Concatenação\n",
    "\n",
    "Alguns operadores matemáticos podem ser utilizados em outros objetos, que não números, dependendo se a operação em si foi definida no objeto. Qual seria o resultado de aplicar uma operação de soma nos casos a seguir?"
   ]
  },
  {
   "cell_type": "code",
   "execution_count": null,
   "id": "ce6a8fb2",
   "metadata": {},
   "outputs": [],
   "source": [
    "print('ABC' + 'def')\n",
    "print([1] + [2])"
   ]
  },
  {
   "cell_type": "markdown",
   "id": "6756c99d",
   "metadata": {},
   "source": [
    "O mesmo não é possível para o operador de subtração, pois esta função não está implementada nesses objetos. Veremos como isso funciona nos métodos mágicos e métodos dunder.\n",
    "\n",
    "## Operadores Relacionais\n",
    "\n",
    "Os operadores relacionais, também conhecidos como operadores de comparação, eles obtém a relação do membro a esquerda com o membro a sua direita gerando um resultado booleano (Verdadeiro ou Falso).\n",
    "\n",
    "1.  Igual a =="
   ]
  },
  {
   "cell_type": "code",
   "execution_count": null,
   "id": "b77726fc",
   "metadata": {},
   "outputs": [],
   "source": [
    "O operador == verifica se dois valores são iguais e retorna True se forem iguais, caso contrário, retorna False.\n",
    "\n",
    "```python\n",
    "a = 5\n",
    "b = 3\n",
    "print(a == b)  # Saída: False\n",
    "```"
   ]
  },
  {
   "cell_type": "markdown",
   "id": "805c67ba",
   "metadata": {},
   "source": [
    "2.  Diferente (!=):\n",
    "    O operador != verifica se dois valores são diferentes e retorna True se forem diferentes, caso contrário, retorna False."
   ]
  },
  {
   "cell_type": "code",
   "execution_count": null,
   "id": "06ff1a85",
   "metadata": {},
   "outputs": [],
   "source": [
    "Exemplo:\n",
    "\n",
    "```python\n",
    "a = 5\n",
    "b = 3\n",
    "print(a != b) # Saída: True\n",
    "```"
   ]
  },
  {
   "cell_type": "markdown",
   "id": "566831aa",
   "metadata": {},
   "source": [
    "3.  Maior que (>):\n",
    "    O operador > verifica se o valor à esquerda é estritamente maior que o valor à direita e retorna True se for, caso contrário, retorna False.\n",
    "    Exemplo:"
   ]
  },
  {
   "cell_type": "code",
   "execution_count": null,
   "id": "1887c3c3",
   "metadata": {},
   "outputs": [],
   "source": [
    "```python\n",
    "a = 5\n",
    "b = 3\n",
    "print(a > b) # Saída: True\n",
    "```"
   ]
  },
  {
   "cell_type": "markdown",
   "id": "31ad3e54",
   "metadata": {},
   "source": [
    "4.  Menor que (<):\n",
    "    O operador < verifica se o valor à esquerda é estritamente menor que o valor à direita e retorna True se for, caso contrário, retorna False."
   ]
  },
  {
   "cell_type": "code",
   "execution_count": null,
   "id": "357301e7",
   "metadata": {},
   "outputs": [],
   "source": [
    "Exemplo:\n",
    "\n",
    "```python\n",
    "a = 5\n",
    "\n",
    "b = 3\n",
    "print(a < b) # Saída: False\n",
    "\n",
    "```"
   ]
  },
  {
   "cell_type": "markdown",
   "id": "3ea447f0",
   "metadata": {},
   "source": [
    "5.  Maior ou igual a (>=):\n",
    "    O operador >= verifica se o valor à esquerda é maior ou igual ao valor à direita e retorna True se for, caso contrário, retorna False."
   ]
  },
  {
   "cell_type": "code",
   "execution_count": null,
   "id": "3662958d",
   "metadata": {},
   "outputs": [],
   "source": [
    "Exemplo:\n",
    "\n",
    "```python\n",
    "a = 5\n",
    "b = 3\n",
    "print(a >= b)  # Saída: True\n",
    "```"
   ]
  },
  {
   "cell_type": "markdown",
   "id": "9b8165b3",
   "metadata": {},
   "source": [
    "6.  Menor ou igual a (<=):\n",
    "    O operador <= verifica se o valor à esquerda é menor ou igual ao valor à direita e retorna True se for, caso contrário, retorna False."
   ]
  },
  {
   "cell_type": "code",
   "execution_count": null,
   "id": "3bd4679e",
   "metadata": {},
   "outputs": [],
   "source": [
    "Exemplo:\n",
    "\n",
    "```python\n",
    "a = 5\n",
    "b = 3\n",
    "print(a <= b) # Saída: False\n",
    "```"
   ]
  },
  {
   "cell_type": "markdown",
   "id": "869eccc8",
   "metadata": {},
   "source": [
    "## Operadores Lógicos\n",
    "\n",
    "Os operadores lógicos são utilizados para realizar operações lógicas em expressões condicionais e avaliar a verdade ou falsidade de condições. Os operadores lógicos padrão no Python são and, or e not. Eles permitem combinar ou inverter condições para tomar decisões em seu código\n",
    "\n",
    "1. Operador and (E lógico):\n",
    "\n",
    "   Retorna True se todas as expressões forem verdadeiras. Caso contrário, retorna False.\n",
    "\n",
    "   ```python\n",
    "   a = 10\n",
    "   b = 5\n",
    "   c = 7\n",
    "\n",
    "   if a > b and a > c:\n",
    "   print(\"a é o maior número.\")\n",
    "\n",
    "   ```\n",
    "\n",
    "2. Operador or (OU lógico):\n",
    "\n",
    "   Retorna True se pelo menos uma das expressões for verdadeira. Retorna False apenas se todas as expressões forem falsas.\n",
    "\n",
    "   ```python\n",
    "   resposta =\"s\"\n",
    "\n",
    "   if resposta == \"s\" or resposta == \"sim\":\n",
    "      print(\"Você será incluído na lista de e-mails.\")\n",
    "   ```\n",
    "\n",
    "3. Operador not (negação lógico):\n",
    "\n",
    "   O operador not é usado para inverter o valor de uma expressão lógica. Se a expressão for True, o operador not retorna False, e se a expressão for False, o operador not retorna True. Aqui está um exemplo:\n",
    "\n",
    "   ```python\n",
    "   logado = False\n",
    "   if not logado:\n",
    "   print(\"Faça login para acessar a página.\")\n",
    "   ```\n",
    "\n",
    "# Funções de Input/Output\n",
    "\n",
    "No Python, as funções de input e output são usadas para interagir com o usuário e com o ambiente externo. Elas permitem que você receba dados de entrada (input) e exiba informações de saída (output).\n",
    "\n",
    "## Input\n",
    "\n",
    "A função input() recebe uma string que será impressa na linha de comando e é capaz de ler do teclado as informações digitadas pelo usuário da seguinte forma:"
   ]
  },
  {
   "cell_type": "code",
   "execution_count": null,
   "id": "58b0d305",
   "metadata": {
    "attributes": {
     "classes": [
      "sh"
     ],
     "id": ""
    }
   },
   "outputs": [],
   "source": [
    "# Interpretador Python no Shell\n",
    ">>> valor_lido = input(\"Digite um valor: \")\n",
    "digite um valor: 10\n",
    "\n",
    ">>> type(valor_lido)  # O valor lido é SEMPRE do tipo string\n",
    "<class 'str'>"
   ]
  },
  {
   "cell_type": "markdown",
   "id": "75fd872b",
   "metadata": {},
   "source": [
    "O valor retornado pela função é sempre do tipo string. Para transformar o valor lido de str para outros tipos é necessário converter. Para converter para int ou float pode-se usar as funções int() e float(), que convertem o valor lido para o tipo de dado esperado."
   ]
  },
  {
   "cell_type": "code",
   "execution_count": null,
   "id": "c6729c76",
   "metadata": {
    "attributes": {
     "classes": [
      "sh"
     ],
     "id": ""
    }
   },
   "outputs": [],
   "source": [
    ">>> valor_lido = int(input(\"digite um valor inteiro: \"))\n",
    "digite um valor inteiro: 10\n",
    "\n",
    ">>> type(valor_lido)\n",
    "<class 'int'>\n",
    "\n",
    ">>> valor_lido + 10\n",
    "20\n",
    "\n",
    ">>> valor_lido = float(input(\"digite um valor decimal: \"))\n",
    "digite um valor decimal: 1.5\n",
    "\n",
    ">>> valor_lido - 1\n",
    "0.5\n"
   ]
  },
  {
   "cell_type": "markdown",
   "id": "b7c913da",
   "metadata": {},
   "source": [
    "Após a conversão é possível realizar as operações aritméticas com números. Caso não fizermos a conversão o que ocorreria com o resultado?\n",
    "\n",
    "## Output\n",
    "\n",
    "A função de print() é usada para exibir informações para o usuário ou gravá-las em um arquivo ou em outro dispositivo de saída. Aqui está um exemplo simples de uso da função print():"
   ]
  },
  {
   "cell_type": "code",
   "execution_count": null,
   "id": "0eb90ba4",
   "metadata": {},
   "outputs": [],
   "source": [
    "nome = \"João\"\n",
    "idade = 25\n",
    "print(\"O nome é\", nome, \"e a idade é\", idade)\n"
   ]
  },
  {
   "cell_type": "markdown",
   "id": "4155fb80",
   "metadata": {},
   "source": [
    "## Conhecendo mais funções\n",
    "\n",
    "Uma função é basicamente uma caixa preta de código, que recebeu um nome específico. De forma geral, são passados dados (parâmetros) para os argumentos de uma função que executa algumas instruções e então retorna algum valor.\n",
    "\n",
    "### Argumentos e Retorno\n",
    "\n",
    "No exemplo a seguir utilizamos a função print passando um argumento à ela, uma string 'Hello world!'. Ao longo de seu funcionamento a função imprime na tela o que foi fornecido a ela. Esta função não possui nenhum retorno (na verdade retorna um tipo None)"
   ]
  },
  {
   "cell_type": "code",
   "execution_count": null,
   "id": "ddf2f55d",
   "metadata": {},
   "outputs": [],
   "source": [
    "dado = print('hello word')\n",
    "# hello word\n",
    "dado\n",
    "type(dado)\n",
    "# <class 'NoneType'>"
   ]
  },
  {
   "cell_type": "markdown",
   "id": "86a9efb1",
   "metadata": {},
   "source": [
    "Uma função pode ou ter receber argumentos. Para executar uma função é necessario, após o nome de uma função, colocar parênteses. Caso não coloquemos paranteses a função pode ser considerada como um tipo de dado."
   ]
  },
  {
   "cell_type": "code",
   "execution_count": null,
   "id": "5b0734e5",
   "metadata": {},
   "outputs": [],
   "source": [
    "# Interpretador Python\n",
    "type(print)\n",
    "# <class 'builtin_function_or_method'>"
   ]
  },
  {
   "cell_type": "markdown",
   "id": "ce34119d",
   "metadata": {},
   "source": [
    "Caso a função não tenha argumentos, não haverá nada dentro dos parênteses. Algumas funções aceitam mais de um argumento, e esses devem ser separados por vírgulas.\n",
    "\n",
    "### Conhecendo a função melhor\n",
    "\n",
    "Podemos conhecer o funcionamento de funções a partir da documentação. Desta forma conhecemos o que ela faz, os argumentos e retorno.\n",
    "\n",
    "Também podemos visualizar isto pelos recursos da IDE/Editor de código colocando o cursos do mouse em cima do texto da função ou pela função help() do Python. Veja o exemplo:\n",
    "\n",
    "![VS Code](../img/print-help.png)"
   ]
  },
  {
   "cell_type": "code",
   "execution_count": null,
   "id": "658a3ea5",
   "metadata": {},
   "outputs": [],
   "source": [
    "help(print)\n",
    "Help on built-in function print in module builtins:\n",
    "\"\"\"\n",
    "print(...)\n",
    "    print(value, ..., sep=' ', end='\\n', file=sys.stdout, flush=False)\n",
    "\n",
    "    Prints the values to a stream, or to sys.stdout by default.\n",
    "    Optional keyword arguments:\n",
    "    file:  a file-like object (stream); defaults to the current sys.stdout.\n",
    "    sep:   string inserted between values, default a space.\n",
    "    end:   string appended after the last value, default a newline.\n",
    "    flush: whether to forcibly flush the stream.\n",
    "\"\"\""
   ]
  },
  {
   "cell_type": "markdown",
   "id": "95000be8",
   "metadata": {},
   "source": [
    "Para a função print o primeiro parâmetro é o valor a ser impresso. Os demais não são obrigatórios. Executando a função print com e sem parâmetros."
   ]
  },
  {
   "cell_type": "code",
   "execution_count": null,
   "id": "9b9eba08",
   "metadata": {},
   "outputs": [],
   "source": [
    "print(\"Hello world!\")\n",
    "print()\n",
    "print('Hello world!')"
   ]
  },
  {
   "cell_type": "markdown",
   "id": "4edef4e6",
   "metadata": {},
   "source": [
    "Executando a função print com um arquivo para que a saída não vá direto para a saída padrão do sistema (terminal de texto). Observe que o parâmetro file foi passado explicitamente. Caso contrário a sequência de valores deveria ser seguida (valor, separador, final, arquivo)."
   ]
  },
  {
   "cell_type": "code",
   "execution_count": null,
   "id": "f65012a0",
   "metadata": {},
   "outputs": [],
   "source": [
    "f = open('file.txt','w')\n",
    "print(\"hello word\",file=f)"
   ]
  },
  {
   "cell_type": "markdown",
   "id": "220f1f32",
   "metadata": {},
   "source": [
    "Agora, note que foram fornecidos dois argumentos, separados por vírgula. O que o comando print fez foi juntá-los com um espaço e colocar na mesma linha. O segundo parâmetro foi recebido como separador."
   ]
  },
  {
   "cell_type": "code",
   "execution_count": null,
   "id": "ad8b6b03",
   "metadata": {},
   "outputs": [],
   "source": [
    "print(\"hello word\",\"!\")\n",
    "# hello word !"
   ]
  },
  {
   "cell_type": "markdown",
   "id": "210b0235",
   "metadata": {},
   "source": [
    "Exercício: Agora explore a documentação da função input()."
   ]
  }
 ],
 "metadata": {},
 "nbformat": 4,
 "nbformat_minor": 5
}
