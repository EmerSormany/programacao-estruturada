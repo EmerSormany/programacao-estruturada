{
 "cells": [
  {
   "cell_type": "markdown",
   "id": "e33a2917",
   "metadata": {},
   "source": [
    "# Stringss\n",
    "\n",
    "## Criação\n",
    "\n",
    "Em Python, strings são demarcadas por aspas, tanto simples (') quanto duplas (\"), mas somente uma ou outra dentro de uma string. Preferencialmente usamos aspas simples. Há um caso especial, utilizando aspas triplas (''' ou \"\"\"), que é utilizado para mútiplas linhas de texto. Na maioria das vezes as aspas triplas são utilizadas para documentação do código.\n",
    "\n",
    "Exemplos de aspas simples:"
   ]
  },
  {
   "cell_type": "code",
   "execution_count": null,
   "id": "b79d77fc",
   "metadata": {},
   "outputs": [],
   "source": [
    "# Exemplo de string com aspas simples\n",
    "string1 = 'Olá, mundo!'\n",
    "\n",
    "# Uso de aspas simples dentro da string\n",
    "string2 = 'Ele disse: \"Python é incrível!\"'\n",
    "\n",
    "# String vazia com aspas simples\n",
    "string3 = ''\n"
   ]
  },
  {
   "cell_type": "markdown",
   "id": "3ccb6259",
   "metadata": {},
   "source": [
    "Exemplos de aspas duplas:"
   ]
  },
  {
   "cell_type": "code",
   "execution_count": null,
   "id": "fd203948",
   "metadata": {},
   "outputs": [],
   "source": [
    "# Exemplo de string com aspas duplas\n",
    "string1 = \"Olá, mundo!\"\n",
    "\n",
    "# Uso de aspas duplas dentro da string\n",
    "string2 = \"Ele disse: 'Python é incrível!'\"\n",
    "\n",
    "# String vazia com aspas duplas\n",
    "string3 = \"\"\n"
   ]
  },
  {
   "cell_type": "markdown",
   "id": "19cdb67d",
   "metadata": {},
   "source": [
    "Exemplos de aspas triplas"
   ]
  },
  {
   "cell_type": "code",
   "execution_count": null,
   "id": "826f6fea",
   "metadata": {},
   "outputs": [],
   "source": [
    "# Exemplo de string multilinhas com aspas triplas\n",
    "string1 = \"\"\"Este é um exemplo\n",
    "de uma string multilinhas.\"\"\"\n",
    "\n",
    "# Uso de aspas simples e duplas dentro da string multilinhas\n",
    "string2 = \"\"\"Ele disse: \"Python é incrível!\"\"\"\"\n",
    "\n",
    "# String vazia com aspas triplas\n",
    "string3 = \"\"\"\n",
    "\"\"\"\n",
    "\n",
    "# String multilinhas sem conteúdo\n",
    "string4 = \"\"\"\n",
    "Este é um exemplo de uma string multilinhas vazia.\n",
    "\"\"\"\n"
   ]
  },
  {
   "cell_type": "markdown",
   "id": "82eba94b",
   "metadata": {},
   "source": [
    "## Acesso à posições\n",
    "\n",
    "Em Python, as strings são imutáveis, o que significa que elas não podem ser modificadas depois de serem criadas. Quando você realiza operações de manipulação de strings, como concatenação, fatiamento ou substituição de caracteres, na verdade está criando uma nova string com as alterações desejadas.\n",
    "\n",
    "### Operador de Índice\n",
    "\n",
    "Você pode acessar caracteres individuais em uma string usando a indexação. Em Python, a indexação começa em 0 para o primeiro caractere. O operador de indice é o [ ]\n",
    "\n",
    "Aqui está um exemplo:"
   ]
  },
  {
   "cell_type": "code",
   "execution_count": null,
   "id": "e8d19b24",
   "metadata": {},
   "outputs": [],
   "source": [
    "fruta = \"banana\"\n",
    "\n",
    "primeira_letra = fruta[0]\n",
    "print(primeira_letra)  # Saída: b\n",
    "\n",
    "segunda_letra = fruta[1]\n",
    "print(segunda_letra)  # Saída: a\n"
   ]
  },
  {
   "cell_type": "markdown",
   "id": "0707cd54",
   "metadata": {},
   "source": [
    "Caso atribuirmos um novo valor à uma das posições de uma string teremos um erro. Veja o exemplo a seguir:"
   ]
  },
  {
   "cell_type": "code",
   "execution_count": null,
   "id": "ff37c106",
   "metadata": {},
   "outputs": [],
   "source": [
    "mensagem = \"Olá, mundo!\"\n",
    "\n",
    "mensagem[0] = 'H' # Isso resultará em um erro\n"
   ]
  },
  {
   "cell_type": "markdown",
   "id": "63c2e9e8",
   "metadata": {},
   "source": [
    "A imutabilidade de strings tem algumas vantagens, como garantir a integridade dos dados e a segurança em ambientes compartilhados ou concorrentes. Além disso, essa propriedade permite otimizações internas, já que strings imutáveis podem ser armazenadas em cache e compartilhadas por várias partes do programa.\n",
    "\n",
    "Além dos índices positivos, você também pode usar índices negativos para acessar elementos a partir do final da sequência. O índice -1 refere-se ao último elemento, -2 ao penúltimo e assim por diante. Por exemplo:"
   ]
  },
  {
   "cell_type": "code",
   "execution_count": null,
   "id": "bb1239ed",
   "metadata": {},
   "outputs": [],
   "source": [
    "mensagem = \"Olá\"\n",
    "print(mensagem[-1])  # Saída: 'á'\n",
    "print(mensagem[-2])  # Saída: 'l'\n",
    "print(mensagem[-3])  # Saída: 'O'\n"
   ]
  },
  {
   "cell_type": "markdown",
   "id": "96a3ee30",
   "metadata": {},
   "source": [
    "Se você tentar acessar um índice que está fora do intervalo válido, Python lançará um erro chamado IndexError. É importante garantir que os índices estejam dentro dos limites.\n",
    "\n",
    "### Fatiar uma string (sub-string).\n",
    "\n",
    "O fatiamento é feito usando a notação [começo:fim]. O caractere no índice \"começo\" está incluído, mas o caractere no índice \"fim\" não está incluído. Embora o termo fatiar se pareça com recortar, a string original permanece imutável. Uma nova string é gerada, também chamada de sub-string.\n",
    "\n",
    "Aqui estão alguns exemplos:"
   ]
  },
  {
   "cell_type": "code",
   "execution_count": null,
   "id": "e57fccda",
   "metadata": {},
   "outputs": [],
   "source": [
    "fruta = \"banana\"\n",
    "\n",
    "parte = fruta[0:3]\n",
    "print(parte) # Saída: ban\n"
   ]
  },
  {
   "cell_type": "markdown",
   "id": "51125e5d",
   "metadata": {},
   "source": [
    "Você também pode usar índices negativos com o operador de fatiamento. Os índices negativos referem-se a elementos contados a partir do final da sequência. Por exemplo"
   ]
  },
  {
   "cell_type": "code",
   "execution_count": null,
   "id": "3fe6527d",
   "metadata": {},
   "outputs": [],
   "source": [
    "sequencia = \"Python\"\n",
    "print(sequencia[-3:-1])  # Saída: \"ho\"\n"
   ]
  },
  {
   "cell_type": "markdown",
   "id": "57b92616",
   "metadata": {},
   "source": [
    "Se você omitir o \"começo\" no operador de fatiamento, o fatiamento começará do início da sequência. Se você omitir o \"fim\", o fatiamento irá até o final da sequência. Por exemplo:"
   ]
  },
  {
   "cell_type": "code",
   "execution_count": null,
   "id": "ffecaa3c",
   "metadata": {},
   "outputs": [],
   "source": [
    "sequencia = \"Python\"\n",
    "print(sequencia[:3])  # Saída: \"Pyt\"\n",
    "print(sequencia[3:])  # Saída: \"hon\""
   ]
  },
  {
   "cell_type": "markdown",
   "id": "60e73acd",
   "metadata": {},
   "source": [
    "Você também pode especificar um valor de passo (step) no operador de fatiamento para pular elementos na sequência. O padrão é 1, mas você pode usar outros valores para avançar em diferentes intervalos."
   ]
  },
  {
   "cell_type": "code",
   "execution_count": null,
   "id": "c0c67c7b",
   "metadata": {},
   "outputs": [],
   "source": [
    "sequencia = \"Python\"\n",
    "print(sequencia[::2]) # Saída: \"Pto\""
   ]
  },
  {
   "cell_type": "markdown",
   "id": "dd56cb62",
   "metadata": {},
   "source": [
    "Uma forma de uso comum do operador de fatiamento é para inverter uma string a partir do último caractere. Veja o exemplo:"
   ]
  },
  {
   "cell_type": "code",
   "execution_count": null,
   "id": "fce44c3f",
   "metadata": {},
   "outputs": [],
   "source": [
    "sequencia = \"Python\"\n",
    "print(sequencia[::-1]) # nohtyP"
   ]
  },
  {
   "cell_type": "markdown",
   "id": "49e74563",
   "metadata": {},
   "source": [
    "## Formatando Strings\n",
    "\n",
    "A formatação de strings é uma técnica muito útil no Python para criar strings dinâmicas combinando texto estático com valores de variáveis.\n",
    "\n",
    "### Concatenar\n",
    "\n",
    "A concatenação de strings na linguagem Python é a operação de combinar duas ou mais strings em uma única string. Você pode realizar a concatenação de strings usando o operador de adição (+) ou usando o recurso de formatação de strings. Veja um exemplo do uso do operador de adição:"
   ]
  },
  {
   "cell_type": "code",
   "execution_count": null,
   "id": "e84d555e",
   "metadata": {},
   "outputs": [],
   "source": [
    "nome = \"João\"\n",
    "sobrenome = \"Silva\"\n",
    "\n",
    "nome_completo = nome + \" \" + sobrenome\n",
    "print(nome_completo) # Saída: João Silva\n"
   ]
  },
  {
   "cell_type": "markdown",
   "id": "c6bc8c1c",
   "metadata": {},
   "source": [
    "### Caracteres de Escape\n",
    "\n",
    "Um escape sequence é um conjunto de caracteres, geralmente precedidos por uma barra para a esquerda (\\) que possuem um significado especial. É bastante útil que você se familiarize com esses caracteres, pois eles podem ajudá-lo muito na hora de consertar arquivos de texto.\n",
    "\n",
    "- \\n: Cria uma nova linha\n",
    "- \\t: Cria um tab\n",
    "- \\r: Retorna ao início da linha\n",
    "- \\\\: Escreve a barra para a esquerda em si.\n",
    "\n",
    "### Raw Strings\n",
    "\n",
    "Suponha que você deseja imprimir justamente a string 'Hello\\nworld!', sem separação de texto. Isso pode ser feito utilizando uma raw string, que é criada simplesmente colocando um r antes das aspas."
   ]
  },
  {
   "cell_type": "code",
   "execution_count": null,
   "id": "e3547d60",
   "metadata": {},
   "outputs": [],
   "source": [
    "print(r'Hello\\nworld!')\n",
    "print(r'\\abc')"
   ]
  },
  {
   "cell_type": "markdown",
   "id": "c69c72d9",
   "metadata": {},
   "source": [
    "### f-strings\n",
    "\n",
    "Também chamadas de f-strings pois são strings com a letra f no início e chaves {} para realizar a interpolação de expressões."
   ]
  },
  {
   "cell_type": "code",
   "execution_count": null,
   "id": "e0a40686",
   "metadata": {},
   "outputs": [],
   "source": [
    "nome = \"Alice\"\n",
    "idade = 25\n",
    "altura = 1.65\n",
    "\n",
    "mensagem = f\"Olá, meu nome é {nome} e eu tenho {idade} anos. Minha altura é {altura} metros.\"\n",
    "print(mensagem)"
   ]
  },
  {
   "cell_type": "markdown",
   "id": "7fd99002",
   "metadata": {},
   "source": [
    "Também é possível realizar formatação mais avançada dentro das chaves das f-strings. Aqui estão alguns exemplos"
   ]
  },
  {
   "cell_type": "code",
   "execution_count": null,
   "id": "24cde79a",
   "metadata": {},
   "outputs": [],
   "source": [
    "numero = 42\n",
    "pi = 3.14159\n",
    "\n",
    "print(f\"O número é {numero:03d}\")  # Resultado: O número é 042\n",
    "print(f\"O valor de pi é {pi:.2f}\")  # Resultado: O valor de pi é 3.14"
   ]
  },
  {
   "cell_type": "markdown",
   "id": "50b2ac3c",
   "metadata": {},
   "source": [
    "Com f-strings, você pode alinhar strings para formatar sua saída de maneira mais organizada. É possível especificar o alinhamento à esquerda, à direita ou centralizado dentro de um campo de largura fixa. Isso é feito adicionando um sinal de dois-pontos após a expressão dentro das chaves e, em seguida, especificando o tipo de alinhamento e a largura desejada.\n",
    "\n",
    "Aqui está um exemplo de como alinhar strings com f-strings:"
   ]
  },
  {
   "cell_type": "code",
   "execution_count": null,
   "id": "28f61bd0",
   "metadata": {},
   "outputs": [],
   "source": [
    "valor = 42.123456789\n",
    "\n",
    "print(f\"Valor: {valor:<10.2f}\")  # Alinhado à esquerda com 2 casas decimais\n",
    "print(f\"Valor: {valor:>10.2f}\")  # Alinhado à direita com 2 casas decimais\n",
    "print(f\"Valor: {valor:^10.2f}\")  # Centralizado com 2 casas decimais\n"
   ]
  },
  {
   "cell_type": "markdown",
   "id": "21104014",
   "metadata": {},
   "source": [
    "Ainda é possível formatar datas, portentagens, notações numérica e alinhar texto.\n",
    "\n",
    "### Operador de formatação %\n",
    "\n",
    "Neste exemplo, %s é usado como marcador de posição para uma string, e %d é usado como marcador de posição para um número inteiro.Esta forma é baseada na formatação da linguagem C."
   ]
  },
  {
   "cell_type": "code",
   "execution_count": null,
   "id": "bc6d3020",
   "metadata": {},
   "outputs": [],
   "source": [
    "nome = \"Alice\"\n",
    "idade = 25\n",
    "\n",
    "mensagem = \"Olá, meu nome é %s e eu tenho %d anos.\" % (nome, idade)\n",
    "print(mensagem)"
   ]
  },
  {
   "cell_type": "markdown",
   "id": "2ccbebac",
   "metadata": {},
   "source": [
    "### Método str.format()\n",
    "\n",
    "O método .format() permite inserir valores em uma string usando marcadores de posição. Foi introduzido no Python 2.6. Aqui está um exemplo básico:"
   ]
  },
  {
   "cell_type": "code",
   "execution_count": null,
   "id": "c2e579cd",
   "metadata": {},
   "outputs": [],
   "source": [
    "nome = \"Alice\"\n",
    "idade = 25\n",
    "altura = 1.65\n",
    "\n",
    "mensagem = \"Olá, meu nome é {} e eu tenho {} anos. Minha altura é {} metros.\".format(nome, idade, altura)\n",
    "print(mensagem)"
   ]
  },
  {
   "cell_type": "markdown",
   "id": "cd47a6f1",
   "metadata": {},
   "source": [
    "## Métodos\n",
    "\n",
    "Python possui várias funções e métodos integrados que facilitam a manipulação de strings. Aqui estão alguns exemplos:\n",
    "\n",
    "1.  Função len():"
   ]
  },
  {
   "cell_type": "code",
   "execution_count": null,
   "id": "7a3c442b",
   "metadata": {},
   "outputs": [],
   "source": [
    "A função len() retorna o comprimento de uma string, ou seja, o número de caracteres presentes nela. Aqui está um exemplo de uso:\n",
    "\n",
    "```python\n",
    "mensagem = \"Olá, mundo!\"\n",
    "comprimento = len(mensagem)\n",
    "print(comprimento)  # Saída: 13\n",
    "\n",
    "```"
   ]
  },
  {
   "cell_type": "markdown",
   "id": "06e74971",
   "metadata": {},
   "source": [
    "2.  Método upper() e lower():"
   ]
  },
  {
   "cell_type": "code",
   "execution_count": null,
   "id": "3a1b37a4",
   "metadata": {},
   "outputs": [],
   "source": [
    "O método upper() converte uma string para letras maiúsculas, enquanto o método lower() converte uma string para letras minúsculas. Aqui está um exemplo:\n",
    "\n",
    "```python\n",
    "mensagem = \"Python é incrível!\"\n",
    "maiusculas = mensagem.upper()\n",
    "minusculas = mensagem.lower()\n",
    "print(maiusculas)  # Saída: PYTHON É INCRÍVEL!\n",
    "print(minusculas)  # Saída: python é incrível!\n",
    "\n",
    "```"
   ]
  },
  {
   "cell_type": "markdown",
   "id": "66186a9b",
   "metadata": {},
   "source": [
    "3.  Método strip():"
   ]
  },
  {
   "cell_type": "code",
   "execution_count": null,
   "id": "e9d52a80",
   "metadata": {},
   "outputs": [],
   "source": [
    "O método strip() remove espaços em branco no início e no final de uma string. É útil para limpar entradas de texto que podem conter espaços extras. Aqui está um exemplo:\n",
    "\n",
    "```python\n",
    "texto = \"    Olá, mundo!    \"\n",
    "texto_limpo = texto.strip()\n",
    "print(texto_limpo) # Saída: \"Olá, mundo!\"\n",
    "```"
   ]
  },
  {
   "cell_type": "markdown",
   "id": "dbf6e641",
   "metadata": {},
   "source": [
    "4.  Método split():"
   ]
  },
  {
   "cell_type": "code",
   "execution_count": null,
   "id": "8055965c",
   "metadata": {},
   "outputs": [],
   "source": [
    "O método split() divide uma string em substrings com base em um separador especificado. O resultado é uma lista de substrings. Aqui está um exemplo:\n",
    "\n",
    "```python\n",
    "frase = \"Python é uma linguagem poderosa\"\n",
    "palavras = frase.split()\n",
    "print(palavras)  # Saída: ['Python', 'é', 'uma', 'linguagem', 'poderosa']\n",
    "```\n",
    "\n",
    "Você também pode especificar um separador personalizado usando o método split(). Por exemplo:\n",
    "\n",
    "```python\n",
    "data = \"2023-07-14\"\n",
    "\n",
    "partes = data.split(\"-\")\n",
    "print(partes) # Saída: ['2023', '07', '14']\n",
    "```"
   ]
  },
  {
   "cell_type": "markdown",
   "id": "c9269206",
   "metadata": {},
   "source": [
    "5.  Método replace()"
   ]
  },
  {
   "cell_type": "code",
   "execution_count": null,
   "id": "e16fafdd",
   "metadata": {},
   "outputs": [],
   "source": [
    "O método replace() substitui todas as ocorrências de uma substring por outra substring em uma string. Aqui está um exemplo:\n",
    "\n",
    "```python\n",
    "mensagem = \"Python é incrível!\"\n",
    "nova_mensagem = mensagem.replace(\"incrível\", \"fantástico\")\n",
    "print(nova_mensagem)  # Saída: \"Python é fantástico!\"\n",
    "```"
   ]
  },
  {
   "cell_type": "markdown",
   "id": "0d52b7c8",
   "metadata": {},
   "source": [
    "Esses são apenas alguns exemplos de funções e métodos para a manipulação de strings em Python. Existem muitos outros disponíveis, como find(), count(), startswith(), endswith(), join(), entre outros."
   ]
  }
 ],
 "metadata": {},
 "nbformat": 4,
 "nbformat_minor": 5
}
